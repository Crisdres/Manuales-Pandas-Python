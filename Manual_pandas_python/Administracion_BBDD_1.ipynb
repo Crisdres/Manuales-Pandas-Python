{
 "cells": [
  {
   "cell_type": "markdown",
   "metadata": {},
   "source": [
    "# Manual de manejo de bases de datos con Python\n",
    "Autor: Cristian Sánchez"
   ]
  },
  {
   "cell_type": "markdown",
   "metadata": {},
   "source": [
    "Actualemnte Python es un de los lenguajes de programación más populares en la ciencia de datos, esto se debe en gran medida a su amplia disponibilidad de librerias, ademas, su sintaxis es simple y su aplicabilidad es extensa."
   ]
  },
  {
   "cell_type": "markdown",
   "metadata": {},
   "source": [
    "Al empezar ha trabajar con bases de datos, se presentan pequeños problemas que son de facil solución, sin embargo, al no tener un entendimiento básico del uso de la libreria Pandas, este pequeño problema puede desencadenar un gran problema y no siempre la solución es copiar el código del internet."
   ]
  },
  {
   "cell_type": "markdown",
   "metadata": {},
   "source": [
    "A continuación se presentan las conceptos mas basicos y ha mi punto de vista, mas necesarios para empezar a manipular bases de datos."
   ]
  },
  {
   "cell_type": "markdown",
   "metadata": {},
   "source": [
    "## importación de librerias"
   ]
  },
  {
   "cell_type": "markdown",
   "metadata": {},
   "source": [
    "Existe gran cantidad de librerias utiles para administrar matrices de información, a continuación, se muestran las mas relevantes para iniciarce en el mundo de la ciencia de datos."
   ]
  },
  {
   "cell_type": "code",
   "execution_count": 46,
   "metadata": {},
   "outputs": [],
   "source": [
    "import pandas as pd\n",
    "import numpy as np\n",
    "import seaborn as sns\n",
    "import sidetable"
   ]
  },
  {
   "cell_type": "markdown",
   "metadata": {},
   "source": [
    "## Para poder crear una matriz de datos (DataFrame)"
   ]
  },
  {
   "cell_type": "markdown",
   "metadata": {},
   "source": [
    "Las maneras de mayor utilidad para generar un dataframe, son por medio de listas, diccionarios y la mas útil, exportando una base de datos externa, ya sea en formato CSV O XLSX."
   ]
  },
  {
   "cell_type": "markdown",
   "metadata": {},
   "source": [
    "* Insertar los datos desde una lista o un objeto np."
   ]
  },
  {
   "cell_type": "code",
   "execution_count": 2,
   "metadata": {},
   "outputs": [
    {
     "data": {
      "text/html": [
       "<div>\n",
       "<style scoped>\n",
       "    .dataframe tbody tr th:only-of-type {\n",
       "        vertical-align: middle;\n",
       "    }\n",
       "\n",
       "    .dataframe tbody tr th {\n",
       "        vertical-align: top;\n",
       "    }\n",
       "\n",
       "    .dataframe thead th {\n",
       "        text-align: right;\n",
       "    }\n",
       "</style>\n",
       "<table border=\"1\" class=\"dataframe\">\n",
       "  <thead>\n",
       "    <tr style=\"text-align: right;\">\n",
       "      <th></th>\n",
       "      <th>numero</th>\n",
       "    </tr>\n",
       "  </thead>\n",
       "  <tbody>\n",
       "    <tr>\n",
       "      <th>uno</th>\n",
       "      <td>1</td>\n",
       "    </tr>\n",
       "    <tr>\n",
       "      <th>dos</th>\n",
       "      <td>2</td>\n",
       "    </tr>\n",
       "    <tr>\n",
       "      <th>tres</th>\n",
       "      <td>3</td>\n",
       "    </tr>\n",
       "    <tr>\n",
       "      <th>cuatro</th>\n",
       "      <td>4</td>\n",
       "    </tr>\n",
       "    <tr>\n",
       "      <th>cinco</th>\n",
       "      <td>5</td>\n",
       "    </tr>\n",
       "    <tr>\n",
       "      <th>seis</th>\n",
       "      <td>6</td>\n",
       "    </tr>\n",
       "  </tbody>\n",
       "</table>\n",
       "</div>"
      ],
      "text/plain": [
       "        numero\n",
       "uno          1\n",
       "dos          2\n",
       "tres         3\n",
       "cuatro       4\n",
       "cinco        5\n",
       "seis         6"
      ]
     },
     "execution_count": 2,
     "metadata": {},
     "output_type": "execute_result"
    }
   ],
   "source": [
    "lista=[1,2,3,4,5,6]\n",
    "base=pd.DataFrame(lista,columns=[\"numero\"],index=[\"uno\",\"dos\",\"tres\",\n",
    "                                                 \"cuatro\",\"cinco\",\"seis\"])\n",
    "base"
   ]
  },
  {
   "cell_type": "markdown",
   "metadata": {},
   "source": [
    "* Ingresar los datos por medio de un diccionario de **listas**."
   ]
  },
  {
   "cell_type": "code",
   "execution_count": 3,
   "metadata": {},
   "outputs": [
    {
     "data": {
      "text/html": [
       "<div>\n",
       "<style scoped>\n",
       "    .dataframe tbody tr th:only-of-type {\n",
       "        vertical-align: middle;\n",
       "    }\n",
       "\n",
       "    .dataframe tbody tr th {\n",
       "        vertical-align: top;\n",
       "    }\n",
       "\n",
       "    .dataframe thead th {\n",
       "        text-align: right;\n",
       "    }\n",
       "</style>\n",
       "<table border=\"1\" class=\"dataframe\">\n",
       "  <thead>\n",
       "    <tr style=\"text-align: right;\">\n",
       "      <th></th>\n",
       "      <th>numero</th>\n",
       "    </tr>\n",
       "  </thead>\n",
       "  <tbody>\n",
       "    <tr>\n",
       "      <th>uno</th>\n",
       "      <td>1</td>\n",
       "    </tr>\n",
       "    <tr>\n",
       "      <th>dos</th>\n",
       "      <td>2</td>\n",
       "    </tr>\n",
       "    <tr>\n",
       "      <th>tres</th>\n",
       "      <td>3</td>\n",
       "    </tr>\n",
       "    <tr>\n",
       "      <th>cuatro</th>\n",
       "      <td>4</td>\n",
       "    </tr>\n",
       "    <tr>\n",
       "      <th>cinco</th>\n",
       "      <td>5</td>\n",
       "    </tr>\n",
       "    <tr>\n",
       "      <th>seis</th>\n",
       "      <td>6</td>\n",
       "    </tr>\n",
       "  </tbody>\n",
       "</table>\n",
       "</div>"
      ],
      "text/plain": [
       "        numero\n",
       "uno          1\n",
       "dos          2\n",
       "tres         3\n",
       "cuatro       4\n",
       "cinco        5\n",
       "seis         6"
      ]
     },
     "execution_count": 3,
     "metadata": {},
     "output_type": "execute_result"
    }
   ],
   "source": [
    "diccionario={\"numero\":[1,2,3,4,5,6]}\n",
    "base=pd.DataFrame(diccionario,index=[\"uno\",\"dos\",\"tres\",\n",
    "                                            \"cuatro\",\"cinco\",\"seis\"])\n",
    "base"
   ]
  },
  {
   "cell_type": "markdown",
   "metadata": {},
   "source": [
    "* Cargar un archivo de datos almacenado en nuestro ordenador, ya sea en formato excel o archivo CSV."
   ]
  },
  {
   "cell_type": "code",
   "execution_count": 48,
   "metadata": {},
   "outputs": [
    {
     "data": {
      "text/html": [
       "<div>\n",
       "<style scoped>\n",
       "    .dataframe tbody tr th:only-of-type {\n",
       "        vertical-align: middle;\n",
       "    }\n",
       "\n",
       "    .dataframe tbody tr th {\n",
       "        vertical-align: top;\n",
       "    }\n",
       "\n",
       "    .dataframe thead th {\n",
       "        text-align: right;\n",
       "    }\n",
       "</style>\n",
       "<table border=\"1\" class=\"dataframe\">\n",
       "  <thead>\n",
       "    <tr style=\"text-align: right;\">\n",
       "      <th></th>\n",
       "      <th>Numeros</th>\n",
       "    </tr>\n",
       "    <tr>\n",
       "      <th>nombres</th>\n",
       "      <th></th>\n",
       "    </tr>\n",
       "  </thead>\n",
       "  <tbody>\n",
       "    <tr>\n",
       "      <th>uno</th>\n",
       "      <td>1</td>\n",
       "    </tr>\n",
       "    <tr>\n",
       "      <th>dos</th>\n",
       "      <td>2</td>\n",
       "    </tr>\n",
       "    <tr>\n",
       "      <th>tres</th>\n",
       "      <td>3</td>\n",
       "    </tr>\n",
       "    <tr>\n",
       "      <th>cuatro</th>\n",
       "      <td>4</td>\n",
       "    </tr>\n",
       "    <tr>\n",
       "      <th>cinco</th>\n",
       "      <td>5</td>\n",
       "    </tr>\n",
       "    <tr>\n",
       "      <th>seis</th>\n",
       "      <td>6</td>\n",
       "    </tr>\n",
       "  </tbody>\n",
       "</table>\n",
       "</div>"
      ],
      "text/plain": [
       "         Numeros\n",
       "nombres         \n",
       "uno            1\n",
       "dos            2\n",
       "tres           3\n",
       "cuatro         4\n",
       "cinco          5\n",
       "seis           6"
      ]
     },
     "execution_count": 48,
     "metadata": {},
     "output_type": "execute_result"
    }
   ],
   "source": [
    "base=pd.read_excel(\"base.xlsx\"\n",
    "                   ,sheet_name=\"base\",index_col=\"nombres\")\n",
    "base"
   ]
  },
  {
   "cell_type": "markdown",
   "metadata": {},
   "source": [
    "## Añadir columnas \n"
   ]
  },
  {
   "cell_type": "markdown",
   "metadata": {},
   "source": [
<<<<<<< Updated upstream
    "Otro aspecto importante para empezar a manipular dataframes es conocer como añadir variables. Todo dependera de lo complejo que sea el requerimiento, puede ser tan simple como pasar una lista de igual logitud, como tambien un poco mas complejo cuando se construye columnas en base a condiciones."
   ]
  },
  {
   "cell_type": "markdown",
   "metadata": {},
   "source": [
=======
>>>>>>> Stashed changes
    "Para añadir una columna se debe escribir el nombre del dataframe y entre corchetes, el nombre de la nueva variable."
   ]
  },
  {
   "cell_type": "code",
   "execution_count": 49,
   "metadata": {
    "scrolled": true
   },
   "outputs": [
    {
     "data": {
      "text/html": [
       "<div>\n",
       "<style scoped>\n",
       "    .dataframe tbody tr th:only-of-type {\n",
       "        vertical-align: middle;\n",
       "    }\n",
       "\n",
       "    .dataframe tbody tr th {\n",
       "        vertical-align: top;\n",
       "    }\n",
       "\n",
       "    .dataframe thead th {\n",
       "        text-align: right;\n",
       "    }\n",
       "</style>\n",
       "<table border=\"1\" class=\"dataframe\">\n",
       "  <thead>\n",
       "    <tr style=\"text-align: right;\">\n",
       "      <th></th>\n",
       "      <th>Numeros</th>\n",
       "      <th>sexo</th>\n",
       "      <th>Estado_civil</th>\n",
       "    </tr>\n",
       "    <tr>\n",
       "      <th>nombres</th>\n",
       "      <th></th>\n",
       "      <th></th>\n",
       "      <th></th>\n",
       "    </tr>\n",
       "  </thead>\n",
       "  <tbody>\n",
       "    <tr>\n",
       "      <th>uno</th>\n",
       "      <td>1</td>\n",
       "      <td>h</td>\n",
       "      <td>soltero</td>\n",
       "    </tr>\n",
       "    <tr>\n",
       "      <th>dos</th>\n",
       "      <td>2</td>\n",
       "      <td>h</td>\n",
       "      <td>casado</td>\n",
       "    </tr>\n",
       "    <tr>\n",
       "      <th>tres</th>\n",
       "      <td>3</td>\n",
       "      <td>h</td>\n",
       "      <td>casado</td>\n",
       "    </tr>\n",
       "    <tr>\n",
       "      <th>cuatro</th>\n",
       "      <td>4</td>\n",
       "      <td>m</td>\n",
       "      <td>soltero</td>\n",
       "    </tr>\n",
       "    <tr>\n",
       "      <th>cinco</th>\n",
       "      <td>5</td>\n",
       "      <td>h</td>\n",
       "      <td>viduo</td>\n",
       "    </tr>\n",
       "    <tr>\n",
       "      <th>seis</th>\n",
       "      <td>6</td>\n",
       "      <td>m</td>\n",
       "      <td>viudo</td>\n",
       "    </tr>\n",
       "  </tbody>\n",
       "</table>\n",
       "</div>"
      ],
      "text/plain": [
       "         Numeros sexo Estado_civil\n",
       "nombres                           \n",
       "uno            1    h      soltero\n",
       "dos            2    h       casado\n",
       "tres           3    h       casado\n",
       "cuatro         4    m      soltero\n",
       "cinco          5    h        viduo\n",
       "seis           6    m        viudo"
      ]
     },
     "execution_count": 49,
     "metadata": {},
     "output_type": "execute_result"
    }
   ],
   "source": [
    "base[\"sexo\"]=[\"h\",\"h\",\"h\",\"m\",\"h\",\"m\"]\n",
    "base[\"Estado_civil\"]=[\"soltero\",\"casado\",\"casado\",\"soltero\",\n",
    "                      \"viduo\",\"viudo\"]\n",
    "base"
   ]
  },
  {
   "cell_type": "markdown",
   "metadata": {},
   "source": [
    "Otro tipo de columnas pueden ser generadas por medio de una cohincidencia exacta, utilizando una lista de comprención."
   ]
  },
  {
   "cell_type": "code",
   "execution_count": 50,
   "metadata": {},
   "outputs": [
    {
     "data": {
      "text/html": [
       "<div>\n",
       "<style scoped>\n",
       "    .dataframe tbody tr th:only-of-type {\n",
       "        vertical-align: middle;\n",
       "    }\n",
       "\n",
       "    .dataframe tbody tr th {\n",
       "        vertical-align: top;\n",
       "    }\n",
       "\n",
       "    .dataframe thead th {\n",
       "        text-align: right;\n",
       "    }\n",
       "</style>\n",
       "<table border=\"1\" class=\"dataframe\">\n",
       "  <thead>\n",
       "    <tr style=\"text-align: right;\">\n",
       "      <th></th>\n",
       "      <th>Numeros</th>\n",
       "      <th>sexo</th>\n",
       "      <th>Estado_civil</th>\n",
       "      <th>idioneo</th>\n",
       "    </tr>\n",
       "    <tr>\n",
       "      <th>nombres</th>\n",
       "      <th></th>\n",
       "      <th></th>\n",
       "      <th></th>\n",
       "      <th></th>\n",
       "    </tr>\n",
       "  </thead>\n",
       "  <tbody>\n",
       "    <tr>\n",
       "      <th>uno</th>\n",
       "      <td>1</td>\n",
       "      <td>h</td>\n",
       "      <td>soltero</td>\n",
       "      <td>no-idoneo</td>\n",
       "    </tr>\n",
       "    <tr>\n",
       "      <th>dos</th>\n",
       "      <td>2</td>\n",
       "      <td>h</td>\n",
       "      <td>casado</td>\n",
       "      <td>no-idoneo</td>\n",
       "    </tr>\n",
       "    <tr>\n",
       "      <th>tres</th>\n",
       "      <td>3</td>\n",
       "      <td>h</td>\n",
       "      <td>casado</td>\n",
       "      <td>no-idoneo</td>\n",
       "    </tr>\n",
       "    <tr>\n",
       "      <th>cuatro</th>\n",
       "      <td>4</td>\n",
       "      <td>m</td>\n",
       "      <td>soltero</td>\n",
       "      <td>idoneo</td>\n",
       "    </tr>\n",
       "    <tr>\n",
       "      <th>cinco</th>\n",
       "      <td>5</td>\n",
       "      <td>h</td>\n",
       "      <td>viduo</td>\n",
       "      <td>no-idoneo</td>\n",
       "    </tr>\n",
       "    <tr>\n",
       "      <th>seis</th>\n",
       "      <td>6</td>\n",
       "      <td>m</td>\n",
       "      <td>viudo</td>\n",
       "      <td>semi-idoneo</td>\n",
       "    </tr>\n",
       "  </tbody>\n",
       "</table>\n",
       "</div>"
      ],
      "text/plain": [
       "         Numeros sexo Estado_civil      idioneo\n",
       "nombres                                        \n",
       "uno            1    h      soltero    no-idoneo\n",
       "dos            2    h       casado    no-idoneo\n",
       "tres           3    h       casado    no-idoneo\n",
       "cuatro         4    m      soltero       idoneo\n",
       "cinco          5    h        viduo    no-idoneo\n",
       "seis           6    m        viudo  semi-idoneo"
      ]
     },
     "execution_count": 50,
     "metadata": {},
     "output_type": "execute_result"
    }
   ],
   "source": [
    "\"\"\"se considera idoneo a la persona que es mujer y soltera; \n",
    "semi-idonea a la que es mujer y viuda y a los hombres no-idoneos\"\"\"\n",
    "\n",
    "base[\"idioneo\"]=[\"idoneo\" if i ==\"m\" and j==\"soltero\" else\n",
    "                \"semi-idoneo\" if i ==\"m\" and j==\"viudo\" else\n",
    "                \"no-idoneo\"\n",
    "                 for i,j in zip(base.sexo,base.Estado_civil)]\n",
    "base"
   ]
  },
  {
   "cell_type": "markdown",
   "metadata": {},
   "source": [
<<<<<<< Updated upstream
    "Ademas, se puede generar una variable a partir de la coincidencia de uns string, dentro de la variable."
=======
    "* Otra opción muy útil, es generar una variable a partir de la coincidencia de un string, dentro de la variable."
>>>>>>> Stashed changes
   ]
  },
  {
   "cell_type": "code",
   "execution_count": 51,
   "metadata": {},
   "outputs": [
    {
     "data": {
      "text/html": [
       "<div>\n",
       "<style scoped>\n",
       "    .dataframe tbody tr th:only-of-type {\n",
       "        vertical-align: middle;\n",
       "    }\n",
       "\n",
       "    .dataframe tbody tr th {\n",
       "        vertical-align: top;\n",
       "    }\n",
       "\n",
       "    .dataframe thead th {\n",
       "        text-align: right;\n",
       "    }\n",
       "</style>\n",
       "<table border=\"1\" class=\"dataframe\">\n",
       "  <thead>\n",
       "    <tr style=\"text-align: right;\">\n",
       "      <th></th>\n",
       "      <th>Numeros</th>\n",
       "      <th>sexo</th>\n",
       "      <th>Estado_civil</th>\n",
       "      <th>idioneo</th>\n",
       "      <th>volcal_a</th>\n",
       "    </tr>\n",
       "    <tr>\n",
       "      <th>nombres</th>\n",
       "      <th></th>\n",
       "      <th></th>\n",
       "      <th></th>\n",
       "      <th></th>\n",
       "      <th></th>\n",
       "    </tr>\n",
       "  </thead>\n",
       "  <tbody>\n",
       "    <tr>\n",
       "      <th>uno</th>\n",
       "      <td>1</td>\n",
       "      <td>h</td>\n",
       "      <td>soltero</td>\n",
       "      <td>no-idoneo</td>\n",
       "      <td>no tiene</td>\n",
       "    </tr>\n",
       "    <tr>\n",
       "      <th>dos</th>\n",
       "      <td>2</td>\n",
       "      <td>h</td>\n",
       "      <td>casado</td>\n",
       "      <td>no-idoneo</td>\n",
       "      <td>si tiene</td>\n",
       "    </tr>\n",
       "    <tr>\n",
       "      <th>tres</th>\n",
       "      <td>3</td>\n",
       "      <td>h</td>\n",
       "      <td>casado</td>\n",
       "      <td>no-idoneo</td>\n",
       "      <td>si tiene</td>\n",
       "    </tr>\n",
       "    <tr>\n",
       "      <th>cuatro</th>\n",
       "      <td>4</td>\n",
       "      <td>m</td>\n",
       "      <td>soltero</td>\n",
       "      <td>idoneo</td>\n",
       "      <td>no tiene</td>\n",
       "    </tr>\n",
       "    <tr>\n",
       "      <th>cinco</th>\n",
       "      <td>5</td>\n",
       "      <td>h</td>\n",
       "      <td>viduo</td>\n",
       "      <td>no-idoneo</td>\n",
       "      <td>no tiene</td>\n",
       "    </tr>\n",
       "    <tr>\n",
       "      <th>seis</th>\n",
       "      <td>6</td>\n",
       "      <td>m</td>\n",
       "      <td>viudo</td>\n",
       "      <td>semi-idoneo</td>\n",
       "      <td>no tiene</td>\n",
       "    </tr>\n",
       "  </tbody>\n",
       "</table>\n",
       "</div>"
      ],
      "text/plain": [
       "         Numeros sexo Estado_civil      idioneo  volcal_a\n",
       "nombres                                                  \n",
       "uno            1    h      soltero    no-idoneo  no tiene\n",
       "dos            2    h       casado    no-idoneo  si tiene\n",
       "tres           3    h       casado    no-idoneo  si tiene\n",
       "cuatro         4    m      soltero       idoneo  no tiene\n",
       "cinco          5    h        viduo    no-idoneo  no tiene\n",
       "seis           6    m        viudo  semi-idoneo  no tiene"
      ]
     },
     "execution_count": 51,
     "metadata": {},
     "output_type": "execute_result"
    }
   ],
   "source": [
    "base[\"volcal_a\"]=[\"si tiene\" if \"a\" in str(i) else \"no tiene\"\n",
    "                 for i in base.Estado_civil]\n",
    "base"
   ]
  },
  {
   "cell_type": "markdown",
   "metadata": {},
   "source": [
    "## Atributos utiles de un Dataframe"
   ]
  },
  {
   "cell_type": "markdown",
   "metadata": {},
   "source": [
    "Una vez definido el dataframe de prueba se puede analizar cuales son los metodos y atributos de mayor utilidad."
   ]
  },
  {
   "cell_type": "markdown",
   "metadata": {},
   "source": [
    "* Dimención de la matriz."
   ]
  },
  {
   "cell_type": "code",
   "execution_count": 52,
   "metadata": {},
   "outputs": [
    {
     "name": "stdout",
     "output_type": "stream",
     "text": [
      "El dataframe tiene 5 columnas y 6 filas\n"
     ]
    }
   ],
   "source": [
    "filas,columnas=base.shape\n",
    "print(\"El dataframe tiene {a} columnas y {b} filas\".format(a=columnas,b=filas))"
   ]
  },
  {
   "cell_type": "markdown",
   "metadata": {},
   "source": [
    "* Número total de elementos en filas y columnas."
   ]
  },
  {
   "cell_type": "code",
   "execution_count": 53,
   "metadata": {},
   "outputs": [
    {
     "name": "stdout",
     "output_type": "stream",
     "text": [
      "El númuero total de elementos es 30\n"
     ]
    }
   ],
   "source": [
    "total=base.size\n",
    "print(\"El númuero total de elementos es {a}\".format(a=total))"
   ]
  },
  {
   "cell_type": "markdown",
   "metadata": {},
   "source": [
    "* Nombre de las columnas, almacenados en una lista."
   ]
  },
  {
   "cell_type": "code",
   "execution_count": 54,
   "metadata": {
    "scrolled": true
   },
   "outputs": [
    {
     "data": {
      "text/plain": [
       "Index(['Numeros', 'sexo', 'Estado_civil', 'idioneo', 'volcal_a'], dtype='object')"
      ]
     },
     "execution_count": 54,
     "metadata": {},
     "output_type": "execute_result"
    }
   ],
   "source": [
    "base.columns"
   ]
  },
  {
   "cell_type": "markdown",
   "metadata": {},
   "source": [
    "* Tipos de datos almacenados en cada columna."
   ]
  },
  {
   "cell_type": "code",
   "execution_count": 55,
   "metadata": {},
   "outputs": [
    {
     "name": "stdout",
     "output_type": "stream",
     "text": [
      "<class 'pandas.core.frame.DataFrame'>\n",
      "Index: 6 entries, uno to seis\n",
      "Data columns (total 5 columns):\n",
      " #   Column        Non-Null Count  Dtype \n",
      "---  ------        --------------  ----- \n",
      " 0   Numeros       6 non-null      int64 \n",
      " 1   sexo          6 non-null      object\n",
      " 2   Estado_civil  6 non-null      object\n",
      " 3   idioneo       6 non-null      object\n",
      " 4   volcal_a      6 non-null      object\n",
      "dtypes: int64(1), object(4)\n",
      "memory usage: 288.0+ bytes\n"
     ]
    }
   ],
   "source": [
    "base.info()"
   ]
  },
  {
   "cell_type": "code",
   "execution_count": 2,
   "metadata": {},
   "outputs": [
    {
     "ename": "NameError",
     "evalue": "name 'base' is not defined",
     "output_type": "error",
     "traceback": [
      "\u001b[1;31m---------------------------------------------------------------------------\u001b[0m",
      "\u001b[1;31mNameError\u001b[0m                                 Traceback (most recent call last)",
      "\u001b[1;32m<ipython-input-2-99d9f7773b65>\u001b[0m in \u001b[0;36m<module>\u001b[1;34m\u001b[0m\n\u001b[1;32m----> 1\u001b[1;33m \u001b[0mbase\u001b[0m\u001b[1;33m.\u001b[0m\u001b[0minfo\u001b[0m\u001b[1;33m(\u001b[0m\u001b[1;33m)\u001b[0m\u001b[1;33m\u001b[0m\u001b[1;33m\u001b[0m\u001b[0m\n\u001b[0m",
      "\u001b[1;31mNameError\u001b[0m: name 'base' is not defined"
     ]
    }
   ],
   "source": [
    "base.info"
   ]
  },
  {
   "cell_type": "markdown",
   "metadata": {},
   "source": [
    "## Dividir Dataframe"
   ]
  },
  {
   "cell_type": "markdown",
   "metadata": {},
   "source": [
    "Para segmentar el archivo en base a condicion se debe crear una *mascara*, que no es mas que una lista de valores buleanos que se crea a partir una condición.\n",
    "Es importante recalcar que **no se puede utilizar la nomenclatura del punto, si no la del corchete** para generar la *mascara*."
   ]
  },
  {
   "cell_type": "code",
   "execution_count": 56,
   "metadata": {
    "scrolled": true
   },
   "outputs": [
    {
     "data": {
      "text/html": [
       "<div>\n",
       "<style scoped>\n",
       "    .dataframe tbody tr th:only-of-type {\n",
       "        vertical-align: middle;\n",
       "    }\n",
       "\n",
       "    .dataframe tbody tr th {\n",
       "        vertical-align: top;\n",
       "    }\n",
       "\n",
       "    .dataframe thead th {\n",
       "        text-align: right;\n",
       "    }\n",
       "</style>\n",
       "<table border=\"1\" class=\"dataframe\">\n",
       "  <thead>\n",
       "    <tr style=\"text-align: right;\">\n",
       "      <th></th>\n",
       "      <th>Numeros</th>\n",
       "      <th>sexo</th>\n",
       "      <th>Estado_civil</th>\n",
       "      <th>idioneo</th>\n",
       "      <th>volcal_a</th>\n",
       "    </tr>\n",
       "    <tr>\n",
       "      <th>nombres</th>\n",
       "      <th></th>\n",
       "      <th></th>\n",
       "      <th></th>\n",
       "      <th></th>\n",
       "      <th></th>\n",
       "    </tr>\n",
       "  </thead>\n",
       "  <tbody>\n",
       "    <tr>\n",
       "      <th>uno</th>\n",
       "      <td>1</td>\n",
       "      <td>h</td>\n",
       "      <td>soltero</td>\n",
       "      <td>no-idoneo</td>\n",
       "      <td>no tiene</td>\n",
       "    </tr>\n",
       "    <tr>\n",
       "      <th>dos</th>\n",
       "      <td>2</td>\n",
       "      <td>h</td>\n",
       "      <td>casado</td>\n",
       "      <td>no-idoneo</td>\n",
       "      <td>si tiene</td>\n",
       "    </tr>\n",
       "    <tr>\n",
       "      <th>tres</th>\n",
       "      <td>3</td>\n",
       "      <td>h</td>\n",
       "      <td>casado</td>\n",
       "      <td>no-idoneo</td>\n",
       "      <td>si tiene</td>\n",
       "    </tr>\n",
       "    <tr>\n",
       "      <th>cinco</th>\n",
       "      <td>5</td>\n",
       "      <td>h</td>\n",
       "      <td>viduo</td>\n",
       "      <td>no-idoneo</td>\n",
       "      <td>no tiene</td>\n",
       "    </tr>\n",
       "  </tbody>\n",
       "</table>\n",
       "</div>"
      ],
      "text/plain": [
       "         Numeros sexo Estado_civil    idioneo  volcal_a\n",
       "nombres                                                \n",
       "uno            1    h      soltero  no-idoneo  no tiene\n",
       "dos            2    h       casado  no-idoneo  si tiene\n",
       "tres           3    h       casado  no-idoneo  si tiene\n",
       "cinco          5    h        viduo  no-idoneo  no tiene"
      ]
     },
     "execution_count": 56,
     "metadata": {},
     "output_type": "execute_result"
    }
   ],
   "source": [
    "base_hombres=base[base[\"sexo\"]==\"h\"]\n",
    "base_hombres"
   ]
  },
  {
   "cell_type": "markdown",
   "metadata": {},
   "source": [
    "Para dividir una matriz de datos en varios criterios de una misma columna, resulta muy práctico el método *isin*. A continación, se crea una *mascara* de buleana que cohincide con los valores 1 y 2 de la variable \"números\"."
   ]
  },
  {
   "cell_type": "code",
   "execution_count": 57,
   "metadata": {
    "scrolled": true
   },
   "outputs": [
    {
     "data": {
      "text/html": [
       "<div>\n",
       "<style scoped>\n",
       "    .dataframe tbody tr th:only-of-type {\n",
       "        vertical-align: middle;\n",
       "    }\n",
       "\n",
       "    .dataframe tbody tr th {\n",
       "        vertical-align: top;\n",
       "    }\n",
       "\n",
       "    .dataframe thead th {\n",
       "        text-align: right;\n",
       "    }\n",
       "</style>\n",
       "<table border=\"1\" class=\"dataframe\">\n",
       "  <thead>\n",
       "    <tr style=\"text-align: right;\">\n",
       "      <th></th>\n",
       "      <th>Numeros</th>\n",
       "      <th>sexo</th>\n",
       "      <th>Estado_civil</th>\n",
       "      <th>idioneo</th>\n",
       "      <th>volcal_a</th>\n",
       "    </tr>\n",
       "    <tr>\n",
       "      <th>nombres</th>\n",
       "      <th></th>\n",
       "      <th></th>\n",
       "      <th></th>\n",
       "      <th></th>\n",
       "      <th></th>\n",
       "    </tr>\n",
       "  </thead>\n",
       "  <tbody>\n",
       "    <tr>\n",
       "      <th>uno</th>\n",
       "      <td>1</td>\n",
       "      <td>h</td>\n",
       "      <td>soltero</td>\n",
       "      <td>no-idoneo</td>\n",
       "      <td>no tiene</td>\n",
       "    </tr>\n",
       "    <tr>\n",
       "      <th>dos</th>\n",
       "      <td>2</td>\n",
       "      <td>h</td>\n",
       "      <td>casado</td>\n",
       "      <td>no-idoneo</td>\n",
       "      <td>si tiene</td>\n",
       "    </tr>\n",
       "  </tbody>\n",
       "</table>\n",
       "</div>"
      ],
      "text/plain": [
       "         Numeros sexo Estado_civil    idioneo  volcal_a\n",
       "nombres                                                \n",
       "uno            1    h      soltero  no-idoneo  no tiene\n",
       "dos            2    h       casado  no-idoneo  si tiene"
      ]
     },
     "execution_count": 57,
     "metadata": {},
     "output_type": "execute_result"
    }
   ],
   "source": [
    "base_12 = base[base[\"Numeros\"].isin([1,2])]\n",
    "base_12"
   ]
  },
  {
   "cell_type": "markdown",
   "metadata": {},
   "source": [
    "Para dividir la matriz de datos en base a multiples criterios de varias columnas, sinplemente se debe contatenar ambos condicionales ya sea con & o |."
   ]
  },
  {
   "cell_type": "code",
   "execution_count": 58,
   "metadata": {},
   "outputs": [
    {
     "data": {
      "text/html": [
       "<div>\n",
       "<style scoped>\n",
       "    .dataframe tbody tr th:only-of-type {\n",
       "        vertical-align: middle;\n",
       "    }\n",
       "\n",
       "    .dataframe tbody tr th {\n",
       "        vertical-align: top;\n",
       "    }\n",
       "\n",
       "    .dataframe thead th {\n",
       "        text-align: right;\n",
       "    }\n",
       "</style>\n",
       "<table border=\"1\" class=\"dataframe\">\n",
       "  <thead>\n",
       "    <tr style=\"text-align: right;\">\n",
       "      <th></th>\n",
       "      <th>Numeros</th>\n",
       "      <th>sexo</th>\n",
       "      <th>Estado_civil</th>\n",
       "      <th>idioneo</th>\n",
       "      <th>volcal_a</th>\n",
       "    </tr>\n",
       "    <tr>\n",
       "      <th>nombres</th>\n",
       "      <th></th>\n",
       "      <th></th>\n",
       "      <th></th>\n",
       "      <th></th>\n",
       "      <th></th>\n",
       "    </tr>\n",
       "  </thead>\n",
       "  <tbody>\n",
       "    <tr>\n",
       "      <th>dos</th>\n",
       "      <td>2</td>\n",
       "      <td>h</td>\n",
       "      <td>casado</td>\n",
       "      <td>no-idoneo</td>\n",
       "      <td>si tiene</td>\n",
       "    </tr>\n",
       "    <tr>\n",
       "      <th>tres</th>\n",
       "      <td>3</td>\n",
       "      <td>h</td>\n",
       "      <td>casado</td>\n",
       "      <td>no-idoneo</td>\n",
       "      <td>si tiene</td>\n",
       "    </tr>\n",
       "  </tbody>\n",
       "</table>\n",
       "</div>"
      ],
      "text/plain": [
       "         Numeros sexo Estado_civil    idioneo  volcal_a\n",
       "nombres                                                \n",
       "dos            2    h       casado  no-idoneo  si tiene\n",
       "tres           3    h       casado  no-idoneo  si tiene"
      ]
     },
     "execution_count": 58,
     "metadata": {},
     "output_type": "execute_result"
    }
   ],
   "source": [
    "base_123_casado=base[base[\"Numeros\"].isin([1,2,3])\n",
    "                    & base[\"Estado_civil\"].isin([\"casado\"])]\n",
    "base_123_casado"
   ]
  },
  {
   "cell_type": "markdown",
   "metadata": {},
   "source": [
    "## Resumen de variable categorica"
   ]
  },
  {
   "cell_type": "markdown",
   "metadata": {},
   "source": [
    "Para obtener un conteo simple de una variable categórica, resulta conveniente utilizar el metodo *value_counts()*, sin embargo como se estudiara a continuación, existen métodos mas eficazes."
   ]
  },
  {
   "cell_type": "code",
   "execution_count": 59,
   "metadata": {},
   "outputs": [
    {
     "data": {
      "text/plain": [
       "h    4\n",
       "m    2\n",
       "Name: sexo, dtype: int64"
      ]
     },
     "execution_count": 59,
     "metadata": {},
     "output_type": "execute_result"
    }
   ],
   "source": [
    "base[\"sexo\"].value_counts()"
   ]
  },
  {
   "cell_type": "markdown",
   "metadata": {},
   "source": [
    "Para obtener los valores en porcentajes, se añade el parametro *normalize=True*."
   ]
  },
  {
   "cell_type": "code",
   "execution_count": 60,
   "metadata": {},
   "outputs": [
    {
     "data": {
      "text/plain": [
       "h    0.666667\n",
       "m    0.333333\n",
       "Name: sexo, dtype: float64"
      ]
     },
     "execution_count": 60,
     "metadata": {},
     "output_type": "execute_result"
    }
   ],
   "source": [
    "base[\"sexo\"].value_counts(normalize=True)"
   ]
  },
  {
   "cell_type": "markdown",
   "metadata": {},
   "source": [
    "Una de las formas mas practicas de analizar las frecuencias de una variable categórica, es por medio del metodo *freq* de los objetos *stb*."
   ]
  },
  {
   "cell_type": "code",
   "execution_count": 61,
   "metadata": {
    "scrolled": true
   },
   "outputs": [
    {
     "data": {
      "text/html": [
       "<style  type=\"text/css\" >\n",
       "</style><table id=\"T_b547ba92_a701_11eb_a9eb_b8ac6f827f16\" ><thead>    <tr>        <th class=\"blank level0\" ></th>        <th class=\"col_heading level0 col0\" >sexo</th>        <th class=\"col_heading level0 col1\" >count</th>        <th class=\"col_heading level0 col2\" >percent</th>        <th class=\"col_heading level0 col3\" >cumulative_count</th>        <th class=\"col_heading level0 col4\" >cumulative_percent</th>    </tr></thead><tbody>\n",
       "                <tr>\n",
       "                        <th id=\"T_b547ba92_a701_11eb_a9eb_b8ac6f827f16level0_row0\" class=\"row_heading level0 row0\" >0</th>\n",
       "                        <td id=\"T_b547ba92_a701_11eb_a9eb_b8ac6f827f16row0_col0\" class=\"data row0 col0\" >h</td>\n",
       "                        <td id=\"T_b547ba92_a701_11eb_a9eb_b8ac6f827f16row0_col1\" class=\"data row0 col1\" >4</td>\n",
       "                        <td id=\"T_b547ba92_a701_11eb_a9eb_b8ac6f827f16row0_col2\" class=\"data row0 col2\" >66.67%</td>\n",
       "                        <td id=\"T_b547ba92_a701_11eb_a9eb_b8ac6f827f16row0_col3\" class=\"data row0 col3\" >4</td>\n",
       "                        <td id=\"T_b547ba92_a701_11eb_a9eb_b8ac6f827f16row0_col4\" class=\"data row0 col4\" >66.67%</td>\n",
       "            </tr>\n",
       "            <tr>\n",
       "                        <th id=\"T_b547ba92_a701_11eb_a9eb_b8ac6f827f16level0_row1\" class=\"row_heading level0 row1\" >1</th>\n",
       "                        <td id=\"T_b547ba92_a701_11eb_a9eb_b8ac6f827f16row1_col0\" class=\"data row1 col0\" >m</td>\n",
       "                        <td id=\"T_b547ba92_a701_11eb_a9eb_b8ac6f827f16row1_col1\" class=\"data row1 col1\" >2</td>\n",
       "                        <td id=\"T_b547ba92_a701_11eb_a9eb_b8ac6f827f16row1_col2\" class=\"data row1 col2\" >33.33%</td>\n",
       "                        <td id=\"T_b547ba92_a701_11eb_a9eb_b8ac6f827f16row1_col3\" class=\"data row1 col3\" >6</td>\n",
       "                        <td id=\"T_b547ba92_a701_11eb_a9eb_b8ac6f827f16row1_col4\" class=\"data row1 col4\" >100.00%</td>\n",
       "            </tr>\n",
       "    </tbody></table>"
      ],
      "text/plain": [
       "<pandas.io.formats.style.Styler at 0x5a3c848>"
      ]
     },
     "execution_count": 61,
     "metadata": {},
     "output_type": "execute_result"
    }
   ],
   "source": [
    "# sidetable no viene por defecto en ANACONDA se debe instalar en el shell\n",
    "#python -m pip install sidetable\n",
    "base.stb.freq([\"sexo\"],style = True)"
   ]
  },
  {
   "cell_type": "markdown",
   "metadata": {},
   "source": [
    "Para analizar dos varibles categóricas resulta muy útil las tablas de contingencia, a continuación, se muestra una simple sintaxis con las cual se la puede generar."
   ]
  },
  {
   "cell_type": "code",
   "execution_count": 62,
   "metadata": {
    "scrolled": true
   },
   "outputs": [
    {
     "data": {
      "text/html": [
       "<div>\n",
       "<style scoped>\n",
       "    .dataframe tbody tr th:only-of-type {\n",
       "        vertical-align: middle;\n",
       "    }\n",
       "\n",
       "    .dataframe tbody tr th {\n",
       "        vertical-align: top;\n",
       "    }\n",
       "\n",
       "    .dataframe thead th {\n",
       "        text-align: right;\n",
       "    }\n",
       "</style>\n",
       "<table border=\"1\" class=\"dataframe\">\n",
       "  <thead>\n",
       "    <tr style=\"text-align: right;\">\n",
       "      <th>Estado_civil</th>\n",
       "      <th>casado</th>\n",
       "      <th>soltero</th>\n",
       "      <th>viduo</th>\n",
       "      <th>viudo</th>\n",
       "    </tr>\n",
       "    <tr>\n",
       "      <th>sexo</th>\n",
       "      <th></th>\n",
       "      <th></th>\n",
       "      <th></th>\n",
       "      <th></th>\n",
       "    </tr>\n",
       "  </thead>\n",
       "  <tbody>\n",
       "    <tr>\n",
       "      <th>h</th>\n",
       "      <td>2</td>\n",
       "      <td>1</td>\n",
       "      <td>1</td>\n",
       "      <td>0</td>\n",
       "    </tr>\n",
       "    <tr>\n",
       "      <th>m</th>\n",
       "      <td>0</td>\n",
       "      <td>1</td>\n",
       "      <td>0</td>\n",
       "      <td>1</td>\n",
       "    </tr>\n",
       "  </tbody>\n",
       "</table>\n",
       "</div>"
      ],
      "text/plain": [
       "Estado_civil  casado  soltero  viduo  viudo\n",
       "sexo                                       \n",
       "h                  2        1      1      0\n",
       "m                  0        1      0      1"
      ]
     },
     "execution_count": 62,
     "metadata": {},
     "output_type": "execute_result"
    }
   ],
   "source": [
    "tabla1=pd.crosstab(base[\"sexo\"],base[\"Estado_civil\"])\n",
    "tabla1"
   ]
  },
  {
   "cell_type": "markdown",
   "metadata": {},
   "source": [
    "Para obtener las frecuencias relativas, simplemente se debo incluir el parametro *normalize=True* en el método. En el caso que se requeria obtener el perfil fila o columna, se utiliza *normalize=\"index\"* o *normalize=\"columns\"* respectivamente."
   ]
  },
  {
   "cell_type": "code",
   "execution_count": 63,
   "metadata": {
    "scrolled": false
   },
   "outputs": [
    {
     "data": {
      "text/html": [
       "<div>\n",
       "<style scoped>\n",
       "    .dataframe tbody tr th:only-of-type {\n",
       "        vertical-align: middle;\n",
       "    }\n",
       "\n",
       "    .dataframe tbody tr th {\n",
       "        vertical-align: top;\n",
       "    }\n",
       "\n",
       "    .dataframe thead th {\n",
       "        text-align: right;\n",
       "    }\n",
       "</style>\n",
       "<table border=\"1\" class=\"dataframe\">\n",
       "  <thead>\n",
       "    <tr style=\"text-align: right;\">\n",
       "      <th>Estado_civil</th>\n",
       "      <th>casado</th>\n",
       "      <th>soltero</th>\n",
       "      <th>viduo</th>\n",
       "      <th>viudo</th>\n",
       "    </tr>\n",
       "    <tr>\n",
       "      <th>sexo</th>\n",
       "      <th></th>\n",
       "      <th></th>\n",
       "      <th></th>\n",
       "      <th></th>\n",
       "    </tr>\n",
       "  </thead>\n",
       "  <tbody>\n",
       "    <tr>\n",
       "      <th>h</th>\n",
       "      <td>1.0</td>\n",
       "      <td>0.5</td>\n",
       "      <td>1.0</td>\n",
       "      <td>0.0</td>\n",
       "    </tr>\n",
       "    <tr>\n",
       "      <th>m</th>\n",
       "      <td>0.0</td>\n",
       "      <td>0.5</td>\n",
       "      <td>0.0</td>\n",
       "      <td>1.0</td>\n",
       "    </tr>\n",
       "  </tbody>\n",
       "</table>\n",
       "</div>"
      ],
      "text/plain": [
       "Estado_civil  casado  soltero  viduo  viudo\n",
       "sexo                                       \n",
       "h                1.0      0.5    1.0    0.0\n",
       "m                0.0      0.5    0.0    1.0"
      ]
     },
     "execution_count": 63,
     "metadata": {},
     "output_type": "execute_result"
    }
   ],
   "source": [
    "tabla2=pd.crosstab(base[\"sexo\"],base[\"Estado_civil\"],normalize=\"columns\")\n",
    "tabla2"
   ]
  },
  {
   "cell_type": "markdown",
   "metadata": {},
   "source": [
    "## Resumen de variable cuantitativa"
   ]
  },
  {
   "cell_type": "markdown",
   "metadata": {},
   "source": [
    "Para obtener un resumen estadístico de una variable cuantitativa, se utiliza el método describe. Por medio de este metodo, se puede evidenciar cual es el conteo, media, mediana, desviación estandar y los cuartiles."
   ]
  },
  {
   "cell_type": "code",
   "execution_count": 64,
   "metadata": {},
   "outputs": [
    {
     "data": {
      "text/plain": [
       "count    6.000000\n",
       "mean     3.500000\n",
       "std      1.870829\n",
       "min      1.000000\n",
       "25%      2.250000\n",
       "50%      3.500000\n",
       "75%      4.750000\n",
       "max      6.000000\n",
       "Name: Numeros, dtype: float64"
      ]
     },
     "execution_count": 64,
     "metadata": {},
     "output_type": "execute_result"
    }
   ],
   "source": [
    "base[\"Numeros\"].describe()"
   ]
  },
  {
   "cell_type": "markdown",
   "metadata": {},
   "source": [
    "Una de las tareas de mayor frecuencia al trabajar con variables cuantitativas, es la categorización de sus valores en rangos. Para generar rangos se utiliza el metodo *cut*, en el siguiente ejemplo se utilizan los cuartiles ya calculados en el recuadro superior."
   ]
  },
  {
   "cell_type": "code",
   "execution_count": 65,
   "metadata": {},
   "outputs": [
    {
     "data": {
      "text/html": [
       "<div>\n",
       "<style scoped>\n",
       "    .dataframe tbody tr th:only-of-type {\n",
       "        vertical-align: middle;\n",
       "    }\n",
       "\n",
       "    .dataframe tbody tr th {\n",
       "        vertical-align: top;\n",
       "    }\n",
       "\n",
       "    .dataframe thead th {\n",
       "        text-align: right;\n",
       "    }\n",
       "</style>\n",
       "<table border=\"1\" class=\"dataframe\">\n",
       "  <thead>\n",
       "    <tr style=\"text-align: right;\">\n",
       "      <th></th>\n",
       "      <th>Numeros</th>\n",
       "      <th>sexo</th>\n",
       "      <th>Estado_civil</th>\n",
       "      <th>idioneo</th>\n",
       "      <th>volcal_a</th>\n",
       "      <th>rango_cuartil</th>\n",
       "    </tr>\n",
       "    <tr>\n",
       "      <th>nombres</th>\n",
       "      <th></th>\n",
       "      <th></th>\n",
       "      <th></th>\n",
       "      <th></th>\n",
       "      <th></th>\n",
       "      <th></th>\n",
       "    </tr>\n",
       "  </thead>\n",
       "  <tbody>\n",
       "    <tr>\n",
       "      <th>uno</th>\n",
       "      <td>1</td>\n",
       "      <td>h</td>\n",
       "      <td>soltero</td>\n",
       "      <td>no-idoneo</td>\n",
       "      <td>no tiene</td>\n",
       "      <td>C_1</td>\n",
       "    </tr>\n",
       "    <tr>\n",
       "      <th>dos</th>\n",
       "      <td>2</td>\n",
       "      <td>h</td>\n",
       "      <td>casado</td>\n",
       "      <td>no-idoneo</td>\n",
       "      <td>si tiene</td>\n",
       "      <td>C_1</td>\n",
       "    </tr>\n",
       "    <tr>\n",
       "      <th>tres</th>\n",
       "      <td>3</td>\n",
       "      <td>h</td>\n",
       "      <td>casado</td>\n",
       "      <td>no-idoneo</td>\n",
       "      <td>si tiene</td>\n",
       "      <td>C_2</td>\n",
       "    </tr>\n",
       "    <tr>\n",
       "      <th>cuatro</th>\n",
       "      <td>4</td>\n",
       "      <td>m</td>\n",
       "      <td>soltero</td>\n",
       "      <td>idoneo</td>\n",
       "      <td>no tiene</td>\n",
       "      <td>C_3</td>\n",
       "    </tr>\n",
       "    <tr>\n",
       "      <th>cinco</th>\n",
       "      <td>5</td>\n",
       "      <td>h</td>\n",
       "      <td>viduo</td>\n",
       "      <td>no-idoneo</td>\n",
       "      <td>no tiene</td>\n",
       "      <td>C_4</td>\n",
       "    </tr>\n",
       "    <tr>\n",
       "      <th>seis</th>\n",
       "      <td>6</td>\n",
       "      <td>m</td>\n",
       "      <td>viudo</td>\n",
       "      <td>semi-idoneo</td>\n",
       "      <td>no tiene</td>\n",
       "      <td>C_4</td>\n",
       "    </tr>\n",
       "  </tbody>\n",
       "</table>\n",
       "</div>"
      ],
      "text/plain": [
       "         Numeros sexo Estado_civil      idioneo  volcal_a rango_cuartil\n",
       "nombres                                                                \n",
       "uno            1    h      soltero    no-idoneo  no tiene           C_1\n",
       "dos            2    h       casado    no-idoneo  si tiene           C_1\n",
       "tres           3    h       casado    no-idoneo  si tiene           C_2\n",
       "cuatro         4    m      soltero       idoneo  no tiene           C_3\n",
       "cinco          5    h        viduo    no-idoneo  no tiene           C_4\n",
       "seis           6    m        viudo  semi-idoneo  no tiene           C_4"
      ]
     },
     "execution_count": 65,
     "metadata": {},
     "output_type": "execute_result"
    }
   ],
   "source": [
    "base[\"rango_cuartil\"] = pd.cut(base[\"Numeros\"], [0,2.25,3.50,4.75,6],\n",
    "                           labels = [\"C_1\",\"C_2\",\"C_3\",\"C_4\"])\n",
    "base\n"
   ]
  },
  {
   "cell_type": "markdown",
   "metadata": {},
   "source": [
    "## Tratamiento a valores nulos"
   ]
  },
  {
   "cell_type": "markdown",
   "metadata": {},
   "source": [
    "Con el fin de ejemplificar cual es el tratamiento basico que se le puede dar a los valores nulos, a continuacion, se generan dos nuevas variables con valores perdidos."
   ]
  },
  {
   "cell_type": "code",
   "execution_count": 66,
   "metadata": {},
   "outputs": [
    {
     "data": {
      "text/html": [
       "<div>\n",
       "<style scoped>\n",
       "    .dataframe tbody tr th:only-of-type {\n",
       "        vertical-align: middle;\n",
       "    }\n",
       "\n",
       "    .dataframe tbody tr th {\n",
       "        vertical-align: top;\n",
       "    }\n",
       "\n",
       "    .dataframe thead th {\n",
       "        text-align: right;\n",
       "    }\n",
       "</style>\n",
       "<table border=\"1\" class=\"dataframe\">\n",
       "  <thead>\n",
       "    <tr style=\"text-align: right;\">\n",
       "      <th></th>\n",
       "      <th>Numeros</th>\n",
       "      <th>sexo</th>\n",
       "      <th>Estado_civil</th>\n",
       "      <th>idioneo</th>\n",
       "      <th>volcal_a</th>\n",
       "      <th>rango_cuartil</th>\n",
       "      <th>hijos</th>\n",
       "      <th>area_residencia</th>\n",
       "    </tr>\n",
       "    <tr>\n",
       "      <th>nombres</th>\n",
       "      <th></th>\n",
       "      <th></th>\n",
       "      <th></th>\n",
       "      <th></th>\n",
       "      <th></th>\n",
       "      <th></th>\n",
       "      <th></th>\n",
       "      <th></th>\n",
       "    </tr>\n",
       "  </thead>\n",
       "  <tbody>\n",
       "    <tr>\n",
       "      <th>uno</th>\n",
       "      <td>1</td>\n",
       "      <td>h</td>\n",
       "      <td>soltero</td>\n",
       "      <td>no-idoneo</td>\n",
       "      <td>no tiene</td>\n",
       "      <td>C_1</td>\n",
       "      <td>2.0</td>\n",
       "      <td>rural</td>\n",
       "    </tr>\n",
       "    <tr>\n",
       "      <th>dos</th>\n",
       "      <td>2</td>\n",
       "      <td>h</td>\n",
       "      <td>casado</td>\n",
       "      <td>no-idoneo</td>\n",
       "      <td>si tiene</td>\n",
       "      <td>C_1</td>\n",
       "      <td>3.0</td>\n",
       "      <td>urbana</td>\n",
       "    </tr>\n",
       "    <tr>\n",
       "      <th>tres</th>\n",
       "      <td>3</td>\n",
       "      <td>h</td>\n",
       "      <td>casado</td>\n",
       "      <td>no-idoneo</td>\n",
       "      <td>si tiene</td>\n",
       "      <td>C_2</td>\n",
       "      <td>4.0</td>\n",
       "      <td>None</td>\n",
       "    </tr>\n",
       "    <tr>\n",
       "      <th>cuatro</th>\n",
       "      <td>4</td>\n",
       "      <td>m</td>\n",
       "      <td>soltero</td>\n",
       "      <td>idoneo</td>\n",
       "      <td>no tiene</td>\n",
       "      <td>C_3</td>\n",
       "      <td>NaN</td>\n",
       "      <td>None</td>\n",
       "    </tr>\n",
       "    <tr>\n",
       "      <th>cinco</th>\n",
       "      <td>5</td>\n",
       "      <td>h</td>\n",
       "      <td>viduo</td>\n",
       "      <td>no-idoneo</td>\n",
       "      <td>no tiene</td>\n",
       "      <td>C_4</td>\n",
       "      <td>4.0</td>\n",
       "      <td>None</td>\n",
       "    </tr>\n",
       "    <tr>\n",
       "      <th>seis</th>\n",
       "      <td>6</td>\n",
       "      <td>m</td>\n",
       "      <td>viudo</td>\n",
       "      <td>semi-idoneo</td>\n",
       "      <td>no tiene</td>\n",
       "      <td>C_4</td>\n",
       "      <td>NaN</td>\n",
       "      <td>rural</td>\n",
       "    </tr>\n",
       "  </tbody>\n",
       "</table>\n",
       "</div>"
      ],
      "text/plain": [
       "         Numeros sexo Estado_civil      idioneo  volcal_a rango_cuartil  \\\n",
       "nombres                                                                   \n",
       "uno            1    h      soltero    no-idoneo  no tiene           C_1   \n",
       "dos            2    h       casado    no-idoneo  si tiene           C_1   \n",
       "tres           3    h       casado    no-idoneo  si tiene           C_2   \n",
       "cuatro         4    m      soltero       idoneo  no tiene           C_3   \n",
       "cinco          5    h        viduo    no-idoneo  no tiene           C_4   \n",
       "seis           6    m        viudo  semi-idoneo  no tiene           C_4   \n",
       "\n",
       "         hijos area_residencia  \n",
       "nombres                         \n",
       "uno        2.0           rural  \n",
       "dos        3.0          urbana  \n",
       "tres       4.0            None  \n",
       "cuatro     NaN            None  \n",
       "cinco      4.0            None  \n",
       "seis       NaN           rural  "
      ]
     },
     "execution_count": 66,
     "metadata": {},
     "output_type": "execute_result"
    }
   ],
   "source": [
    "base[\"hijos\"]=[2,3,4,np.nan,4,None]\n",
    "base[\"area_residencia\"]=[\"rural\",\"urbana\",None,None,None,\"rural\"]\n",
    "base"
   ]
  },
  {
   "cell_type": "markdown",
   "metadata": {},
   "source": [
    "Para realizar un conteo de la cantidad de valores perdidos dentro de cara variable se utilizan el métodos *isna().sum()*."
   ]
  },
  {
   "cell_type": "code",
   "execution_count": 68,
   "metadata": {
    "scrolled": true
   },
   "outputs": [
    {
     "data": {
      "text/plain": [
       "Numeros            0\n",
       "sexo               0\n",
       "Estado_civil       0\n",
       "idioneo            0\n",
       "volcal_a           0\n",
       "rango_cuartil      0\n",
       "hijos              2\n",
       "area_residencia    3\n",
       "dtype: int64"
      ]
     },
     "execution_count": 68,
     "metadata": {},
     "output_type": "execute_result"
    }
   ],
   "source": [
    "base.isna().sum()"
   ]
  },
  {
   "cell_type": "markdown",
   "metadata": {},
   "source": [
    "Y, para poder evidenciar cuales son sus porcentajes con respecto al total, se lo divide para la cantidad de datos."
   ]
  },
  {
   "cell_type": "code",
   "execution_count": 69,
   "metadata": {},
   "outputs": [
    {
     "data": {
      "text/plain": [
       "Numeros            0.000000\n",
       "sexo               0.000000\n",
       "Estado_civil       0.000000\n",
       "idioneo            0.000000\n",
       "volcal_a           0.000000\n",
       "rango_cuartil      0.000000\n",
       "hijos              0.333333\n",
       "area_residencia    0.500000\n",
       "dtype: float64"
      ]
     },
     "execution_count": 69,
     "metadata": {},
     "output_type": "execute_result"
    }
   ],
   "source": [
    "base.isna().sum() / len(base)"
   ]
  },
  {
   "cell_type": "markdown",
   "metadata": {},
   "source": [
    "La manera mas conveniente de analizar los valores perdidos es por medio del método *missing* de el objeto *stb*."
   ]
  },
  {
   "cell_type": "code",
   "execution_count": 70,
   "metadata": {
    "scrolled": true
   },
   "outputs": [
    {
     "data": {
      "text/html": [
       "<style  type=\"text/css\" >\n",
       "</style><table id=\"T_d7b931a6_a701_11eb_83dc_b8ac6f827f16\" ><thead>    <tr>        <th class=\"blank level0\" ></th>        <th class=\"col_heading level0 col0\" >missing</th>        <th class=\"col_heading level0 col1\" >total</th>        <th class=\"col_heading level0 col2\" >percent</th>    </tr></thead><tbody>\n",
       "                <tr>\n",
       "                        <th id=\"T_d7b931a6_a701_11eb_83dc_b8ac6f827f16level0_row0\" class=\"row_heading level0 row0\" >area_residencia</th>\n",
       "                        <td id=\"T_d7b931a6_a701_11eb_83dc_b8ac6f827f16row0_col0\" class=\"data row0 col0\" >3</td>\n",
       "                        <td id=\"T_d7b931a6_a701_11eb_83dc_b8ac6f827f16row0_col1\" class=\"data row0 col1\" >6</td>\n",
       "                        <td id=\"T_d7b931a6_a701_11eb_83dc_b8ac6f827f16row0_col2\" class=\"data row0 col2\" >50.00%</td>\n",
       "            </tr>\n",
       "            <tr>\n",
       "                        <th id=\"T_d7b931a6_a701_11eb_83dc_b8ac6f827f16level0_row1\" class=\"row_heading level0 row1\" >hijos</th>\n",
       "                        <td id=\"T_d7b931a6_a701_11eb_83dc_b8ac6f827f16row1_col0\" class=\"data row1 col0\" >2</td>\n",
       "                        <td id=\"T_d7b931a6_a701_11eb_83dc_b8ac6f827f16row1_col1\" class=\"data row1 col1\" >6</td>\n",
       "                        <td id=\"T_d7b931a6_a701_11eb_83dc_b8ac6f827f16row1_col2\" class=\"data row1 col2\" >33.33%</td>\n",
       "            </tr>\n",
       "            <tr>\n",
       "                        <th id=\"T_d7b931a6_a701_11eb_83dc_b8ac6f827f16level0_row2\" class=\"row_heading level0 row2\" >Numeros</th>\n",
       "                        <td id=\"T_d7b931a6_a701_11eb_83dc_b8ac6f827f16row2_col0\" class=\"data row2 col0\" >0</td>\n",
       "                        <td id=\"T_d7b931a6_a701_11eb_83dc_b8ac6f827f16row2_col1\" class=\"data row2 col1\" >6</td>\n",
       "                        <td id=\"T_d7b931a6_a701_11eb_83dc_b8ac6f827f16row2_col2\" class=\"data row2 col2\" >0.00%</td>\n",
       "            </tr>\n",
       "            <tr>\n",
       "                        <th id=\"T_d7b931a6_a701_11eb_83dc_b8ac6f827f16level0_row3\" class=\"row_heading level0 row3\" >sexo</th>\n",
       "                        <td id=\"T_d7b931a6_a701_11eb_83dc_b8ac6f827f16row3_col0\" class=\"data row3 col0\" >0</td>\n",
       "                        <td id=\"T_d7b931a6_a701_11eb_83dc_b8ac6f827f16row3_col1\" class=\"data row3 col1\" >6</td>\n",
       "                        <td id=\"T_d7b931a6_a701_11eb_83dc_b8ac6f827f16row3_col2\" class=\"data row3 col2\" >0.00%</td>\n",
       "            </tr>\n",
       "            <tr>\n",
       "                        <th id=\"T_d7b931a6_a701_11eb_83dc_b8ac6f827f16level0_row4\" class=\"row_heading level0 row4\" >Estado_civil</th>\n",
       "                        <td id=\"T_d7b931a6_a701_11eb_83dc_b8ac6f827f16row4_col0\" class=\"data row4 col0\" >0</td>\n",
       "                        <td id=\"T_d7b931a6_a701_11eb_83dc_b8ac6f827f16row4_col1\" class=\"data row4 col1\" >6</td>\n",
       "                        <td id=\"T_d7b931a6_a701_11eb_83dc_b8ac6f827f16row4_col2\" class=\"data row4 col2\" >0.00%</td>\n",
       "            </tr>\n",
       "            <tr>\n",
       "                        <th id=\"T_d7b931a6_a701_11eb_83dc_b8ac6f827f16level0_row5\" class=\"row_heading level0 row5\" >idioneo</th>\n",
       "                        <td id=\"T_d7b931a6_a701_11eb_83dc_b8ac6f827f16row5_col0\" class=\"data row5 col0\" >0</td>\n",
       "                        <td id=\"T_d7b931a6_a701_11eb_83dc_b8ac6f827f16row5_col1\" class=\"data row5 col1\" >6</td>\n",
       "                        <td id=\"T_d7b931a6_a701_11eb_83dc_b8ac6f827f16row5_col2\" class=\"data row5 col2\" >0.00%</td>\n",
       "            </tr>\n",
       "            <tr>\n",
       "                        <th id=\"T_d7b931a6_a701_11eb_83dc_b8ac6f827f16level0_row6\" class=\"row_heading level0 row6\" >volcal_a</th>\n",
       "                        <td id=\"T_d7b931a6_a701_11eb_83dc_b8ac6f827f16row6_col0\" class=\"data row6 col0\" >0</td>\n",
       "                        <td id=\"T_d7b931a6_a701_11eb_83dc_b8ac6f827f16row6_col1\" class=\"data row6 col1\" >6</td>\n",
       "                        <td id=\"T_d7b931a6_a701_11eb_83dc_b8ac6f827f16row6_col2\" class=\"data row6 col2\" >0.00%</td>\n",
       "            </tr>\n",
       "            <tr>\n",
       "                        <th id=\"T_d7b931a6_a701_11eb_83dc_b8ac6f827f16level0_row7\" class=\"row_heading level0 row7\" >rango_cuartil</th>\n",
       "                        <td id=\"T_d7b931a6_a701_11eb_83dc_b8ac6f827f16row7_col0\" class=\"data row7 col0\" >0</td>\n",
       "                        <td id=\"T_d7b931a6_a701_11eb_83dc_b8ac6f827f16row7_col1\" class=\"data row7 col1\" >6</td>\n",
       "                        <td id=\"T_d7b931a6_a701_11eb_83dc_b8ac6f827f16row7_col2\" class=\"data row7 col2\" >0.00%</td>\n",
       "            </tr>\n",
       "    </tbody></table>"
      ],
      "text/plain": [
       "<pandas.io.formats.style.Styler at 0xa3e35c8>"
      ]
     },
     "execution_count": 70,
     "metadata": {},
     "output_type": "execute_result"
    }
   ],
   "source": [
    "\n",
    "# sidetable no viene por defecto en ANACONDA se debe instalar en el shell\n",
    "#python -m pip install sidetable\n",
    "base.stb.missing(style = True)"
   ]
  },
  {
   "cell_type": "markdown",
   "metadata": {},
   "source": [
    "Para elimnar los valores perdidos de una sola columna se utiliza el siguiente comando."
   ]
  },
  {
   "cell_type": "code",
   "execution_count": 81,
   "metadata": {
    "scrolled": true
   },
   "outputs": [
    {
     "data": {
      "text/html": [
       "<div>\n",
       "<style scoped>\n",
       "    .dataframe tbody tr th:only-of-type {\n",
       "        vertical-align: middle;\n",
       "    }\n",
       "\n",
       "    .dataframe tbody tr th {\n",
       "        vertical-align: top;\n",
       "    }\n",
       "\n",
       "    .dataframe thead th {\n",
       "        text-align: right;\n",
       "    }\n",
       "</style>\n",
       "<table border=\"1\" class=\"dataframe\">\n",
       "  <thead>\n",
       "    <tr style=\"text-align: right;\">\n",
       "      <th></th>\n",
       "      <th>Numeros</th>\n",
       "      <th>sexo</th>\n",
       "      <th>Estado_civil</th>\n",
       "      <th>idioneo</th>\n",
       "      <th>volcal_a</th>\n",
       "      <th>rango_cuartil</th>\n",
       "      <th>hijos</th>\n",
       "      <th>area_residencia</th>\n",
       "    </tr>\n",
       "    <tr>\n",
       "      <th>nombres</th>\n",
       "      <th></th>\n",
       "      <th></th>\n",
       "      <th></th>\n",
       "      <th></th>\n",
       "      <th></th>\n",
       "      <th></th>\n",
       "      <th></th>\n",
       "      <th></th>\n",
       "    </tr>\n",
       "  </thead>\n",
       "  <tbody>\n",
       "    <tr>\n",
       "      <th>uno</th>\n",
       "      <td>1</td>\n",
       "      <td>h</td>\n",
       "      <td>soltero</td>\n",
       "      <td>no-idoneo</td>\n",
       "      <td>no tiene</td>\n",
       "      <td>C_1</td>\n",
       "      <td>2.0</td>\n",
       "      <td>rural</td>\n",
       "    </tr>\n",
       "    <tr>\n",
       "      <th>dos</th>\n",
       "      <td>2</td>\n",
       "      <td>h</td>\n",
       "      <td>casado</td>\n",
       "      <td>no-idoneo</td>\n",
       "      <td>si tiene</td>\n",
       "      <td>C_1</td>\n",
       "      <td>3.0</td>\n",
       "      <td>urbana</td>\n",
       "    </tr>\n",
       "    <tr>\n",
       "      <th>tres</th>\n",
       "      <td>3</td>\n",
       "      <td>h</td>\n",
       "      <td>casado</td>\n",
       "      <td>no-idoneo</td>\n",
       "      <td>si tiene</td>\n",
       "      <td>C_2</td>\n",
       "      <td>4.0</td>\n",
       "      <td>None</td>\n",
       "    </tr>\n",
       "    <tr>\n",
       "      <th>cinco</th>\n",
       "      <td>5</td>\n",
       "      <td>h</td>\n",
       "      <td>viduo</td>\n",
       "      <td>no-idoneo</td>\n",
       "      <td>no tiene</td>\n",
       "      <td>C_4</td>\n",
       "      <td>4.0</td>\n",
       "      <td>None</td>\n",
       "    </tr>\n",
       "  </tbody>\n",
       "</table>\n",
       "</div>"
      ],
      "text/plain": [
       "         Numeros sexo Estado_civil    idioneo  volcal_a rango_cuartil  hijos  \\\n",
       "nombres                                                                        \n",
       "uno            1    h      soltero  no-idoneo  no tiene           C_1    2.0   \n",
       "dos            2    h       casado  no-idoneo  si tiene           C_1    3.0   \n",
       "tres           3    h       casado  no-idoneo  si tiene           C_2    4.0   \n",
       "cinco          5    h        viduo  no-idoneo  no tiene           C_4    4.0   \n",
       "\n",
       "        area_residencia  \n",
       "nombres                  \n",
       "uno               rural  \n",
       "dos              urbana  \n",
       "tres               None  \n",
       "cinco              None  "
      ]
     },
     "execution_count": 81,
     "metadata": {},
     "output_type": "execute_result"
    }
   ],
   "source": [
    "base.dropna(subset = [\"hijos\"], axis = 0,inplace = True)"
   ]
  },
  {
   "cell_type": "markdown",
   "metadata": {},
   "source": [
    "Se podria dar el caso que no se necesite eliminar el valor perdido de una columna, si no cambiar s nombre. Si es ese el caso, se debe utilizar la siguiente linea de codigo para renombralos."
   ]
  },
  {
   "cell_type": "code",
   "execution_count": 83,
   "metadata": {},
   "outputs": [
    {
     "data": {
      "text/html": [
       "<div>\n",
       "<style scoped>\n",
       "    .dataframe tbody tr th:only-of-type {\n",
       "        vertical-align: middle;\n",
       "    }\n",
       "\n",
       "    .dataframe tbody tr th {\n",
       "        vertical-align: top;\n",
       "    }\n",
       "\n",
       "    .dataframe thead th {\n",
       "        text-align: right;\n",
       "    }\n",
       "</style>\n",
       "<table border=\"1\" class=\"dataframe\">\n",
       "  <thead>\n",
       "    <tr style=\"text-align: right;\">\n",
       "      <th></th>\n",
       "      <th>Numeros</th>\n",
       "      <th>sexo</th>\n",
       "      <th>Estado_civil</th>\n",
       "      <th>idioneo</th>\n",
       "      <th>volcal_a</th>\n",
       "      <th>rango_cuartil</th>\n",
       "      <th>hijos</th>\n",
       "      <th>area_residencia</th>\n",
       "    </tr>\n",
       "    <tr>\n",
       "      <th>nombres</th>\n",
       "      <th></th>\n",
       "      <th></th>\n",
       "      <th></th>\n",
       "      <th></th>\n",
       "      <th></th>\n",
       "      <th></th>\n",
       "      <th></th>\n",
       "      <th></th>\n",
       "    </tr>\n",
       "  </thead>\n",
       "  <tbody>\n",
       "    <tr>\n",
       "      <th>uno</th>\n",
       "      <td>1</td>\n",
       "      <td>h</td>\n",
       "      <td>soltero</td>\n",
       "      <td>no-idoneo</td>\n",
       "      <td>no tiene</td>\n",
       "      <td>C_1</td>\n",
       "      <td>2.0</td>\n",
       "      <td>rural</td>\n",
       "    </tr>\n",
       "    <tr>\n",
       "      <th>dos</th>\n",
       "      <td>2</td>\n",
       "      <td>h</td>\n",
       "      <td>casado</td>\n",
       "      <td>no-idoneo</td>\n",
       "      <td>si tiene</td>\n",
       "      <td>C_1</td>\n",
       "      <td>3.0</td>\n",
       "      <td>urbana</td>\n",
       "    </tr>\n",
       "    <tr>\n",
       "      <th>tres</th>\n",
       "      <td>3</td>\n",
       "      <td>h</td>\n",
       "      <td>casado</td>\n",
       "      <td>no-idoneo</td>\n",
       "      <td>si tiene</td>\n",
       "      <td>C_2</td>\n",
       "      <td>4.0</td>\n",
       "      <td>periféricos</td>\n",
       "    </tr>\n",
       "    <tr>\n",
       "      <th>cinco</th>\n",
       "      <td>5</td>\n",
       "      <td>h</td>\n",
       "      <td>viduo</td>\n",
       "      <td>no-idoneo</td>\n",
       "      <td>no tiene</td>\n",
       "      <td>C_4</td>\n",
       "      <td>4.0</td>\n",
       "      <td>periféricos</td>\n",
       "    </tr>\n",
       "  </tbody>\n",
       "</table>\n",
       "</div>"
      ],
      "text/plain": [
       "         Numeros sexo Estado_civil    idioneo  volcal_a rango_cuartil  hijos  \\\n",
       "nombres                                                                        \n",
       "uno            1    h      soltero  no-idoneo  no tiene           C_1    2.0   \n",
       "dos            2    h       casado  no-idoneo  si tiene           C_1    3.0   \n",
       "tres           3    h       casado  no-idoneo  si tiene           C_2    4.0   \n",
       "cinco          5    h        viduo  no-idoneo  no tiene           C_4    4.0   \n",
       "\n",
       "        area_residencia  \n",
       "nombres                  \n",
       "uno               rural  \n",
       "dos              urbana  \n",
       "tres        periféricos  \n",
       "cinco       periféricos  "
      ]
     },
     "execution_count": 83,
     "metadata": {},
     "output_type": "execute_result"
    }
   ],
   "source": [
    "base[\"area_residencia\"]=base[\"area_residencia\"].fillna(\"periféricos\")\n",
    "base"
   ]
  },
  {
   "cell_type": "markdown",
   "metadata": {},
   "source": [
    "En el caso que se desee eliminar todas las filas o todas las columnas que tengan valores perdidos se utiliza el siguiente comando, y se selecciona axis=0 para las filas y las columnas axis=1."
   ]
  },
  {
   "cell_type": "code",
   "execution_count": 85,
   "metadata": {},
   "outputs": [
    {
     "data": {
      "text/html": [
       "<div>\n",
       "<style scoped>\n",
       "    .dataframe tbody tr th:only-of-type {\n",
       "        vertical-align: middle;\n",
       "    }\n",
       "\n",
       "    .dataframe tbody tr th {\n",
       "        vertical-align: top;\n",
       "    }\n",
       "\n",
       "    .dataframe thead th {\n",
       "        text-align: right;\n",
       "    }\n",
       "</style>\n",
       "<table border=\"1\" class=\"dataframe\">\n",
       "  <thead>\n",
       "    <tr style=\"text-align: right;\">\n",
       "      <th></th>\n",
       "      <th>Numeros</th>\n",
       "      <th>sexo</th>\n",
       "      <th>Estado_civil</th>\n",
       "      <th>idioneo</th>\n",
       "      <th>volcal_a</th>\n",
       "      <th>rango_cuartil</th>\n",
       "      <th>hijos</th>\n",
       "      <th>area_residencia</th>\n",
       "    </tr>\n",
       "    <tr>\n",
       "      <th>nombres</th>\n",
       "      <th></th>\n",
       "      <th></th>\n",
       "      <th></th>\n",
       "      <th></th>\n",
       "      <th></th>\n",
       "      <th></th>\n",
       "      <th></th>\n",
       "      <th></th>\n",
       "    </tr>\n",
       "  </thead>\n",
       "  <tbody>\n",
       "    <tr>\n",
       "      <th>uno</th>\n",
       "      <td>1</td>\n",
       "      <td>h</td>\n",
       "      <td>soltero</td>\n",
       "      <td>no-idoneo</td>\n",
       "      <td>no tiene</td>\n",
       "      <td>C_1</td>\n",
       "      <td>2.0</td>\n",
       "      <td>rural</td>\n",
       "    </tr>\n",
       "    <tr>\n",
       "      <th>dos</th>\n",
       "      <td>2</td>\n",
       "      <td>h</td>\n",
       "      <td>casado</td>\n",
       "      <td>no-idoneo</td>\n",
       "      <td>si tiene</td>\n",
       "      <td>C_1</td>\n",
       "      <td>3.0</td>\n",
       "      <td>urbana</td>\n",
       "    </tr>\n",
       "    <tr>\n",
       "      <th>tres</th>\n",
       "      <td>3</td>\n",
       "      <td>h</td>\n",
       "      <td>casado</td>\n",
       "      <td>no-idoneo</td>\n",
       "      <td>si tiene</td>\n",
       "      <td>C_2</td>\n",
       "      <td>4.0</td>\n",
       "      <td>periféricos</td>\n",
       "    </tr>\n",
       "    <tr>\n",
       "      <th>cinco</th>\n",
       "      <td>5</td>\n",
       "      <td>h</td>\n",
       "      <td>viduo</td>\n",
       "      <td>no-idoneo</td>\n",
       "      <td>no tiene</td>\n",
       "      <td>C_4</td>\n",
       "      <td>4.0</td>\n",
       "      <td>periféricos</td>\n",
       "    </tr>\n",
       "  </tbody>\n",
       "</table>\n",
       "</div>"
      ],
      "text/plain": [
       "         Numeros sexo Estado_civil    idioneo  volcal_a rango_cuartil  hijos  \\\n",
       "nombres                                                                        \n",
       "uno            1    h      soltero  no-idoneo  no tiene           C_1    2.0   \n",
       "dos            2    h       casado  no-idoneo  si tiene           C_1    3.0   \n",
       "tres           3    h       casado  no-idoneo  si tiene           C_2    4.0   \n",
       "cinco          5    h        viduo  no-idoneo  no tiene           C_4    4.0   \n",
       "\n",
       "        area_residencia  \n",
       "nombres                  \n",
       "uno               rural  \n",
       "dos              urbana  \n",
       "tres        periféricos  \n",
       "cinco       periféricos  "
      ]
     },
     "execution_count": 85,
     "metadata": {},
     "output_type": "execute_result"
    }
   ],
   "source": [
    "base.dropna(axis=0)\n",
    "base"
   ]
  },
  {
   "cell_type": "code",
   "execution_count": null,
   "metadata": {},
   "outputs": [],
   "source": []
  }
 ],
 "metadata": {
  "kernelspec": {
   "display_name": "Python 3",
   "language": "python",
   "name": "python3"
  },
  "language_info": {
   "codemirror_mode": {
    "name": "ipython",
    "version": 3
   },
   "file_extension": ".py",
   "mimetype": "text/x-python",
   "name": "python",
   "nbconvert_exporter": "python",
   "pygments_lexer": "ipython3",
   "version": "3.7.6"
  }
 },
 "nbformat": 4,
 "nbformat_minor": 4
}
