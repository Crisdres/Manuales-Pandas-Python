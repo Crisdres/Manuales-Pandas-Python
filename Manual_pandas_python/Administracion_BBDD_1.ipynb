{
 "cells": [
  {
   "cell_type": "markdown",
   "metadata": {},
   "source": [
    "# Manual de manejo de bases de datos con Python\n",
    "Autor: Cristian Sánchez"
   ]
  },
  {
   "cell_type": "markdown",
   "metadata": {},
   "source": [
    "Actualemnte Python es un de los lenguajes de programación más populares en la ciencia de datos, esto se debe en gran medida a su amplia disponibilidad de librerias, ademas, su sintaxis es simple y su aplicabilidad es extensa."
   ]
  },
  {
   "cell_type": "markdown",
   "metadata": {},
   "source": [
    "Al empezar ha trabajar con bases de datos, se presentan pequeños problemas que son de facil solución, sin embargo, al no tener un entendimiento básico del uso de la libreria Pandas, este pequeño problema puede desencadenar un gran problema y no siempre la solución es copiar el código del internet."
   ]
  },
  {
   "cell_type": "markdown",
   "metadata": {},
   "source": [
    "A continuación se presentan las conceptos mas basicos y ha mi punto de vista, mas necesarios para empezar a manipular bases de datos."
   ]
  },
  {
   "cell_type": "markdown",
   "metadata": {},
   "source": [
    "## importación de librerias"
   ]
  },
  {
   "cell_type": "markdown",
   "metadata": {},
   "source": [
    "Existe gran cantidad de librerias utiles en la cincia de datos, a continuación, se muestran las mas relevantes para iniciarce en el mundo de la ciencia de datos."
   ]
  },
  {
   "cell_type": "code",
   "execution_count": 28,
   "metadata": {},
   "outputs": [],
   "source": [
    "import pandas as pd\n",
    "import numpy as np\n",
    "import seaborn as sns\n",
    "import sidetable"
   ]
  },
  {
   "cell_type": "markdown",
   "metadata": {},
   "source": [
    "## Para poder crear una matriz de datos (DataFrame)"
   ]
  },
  {
   "cell_type": "markdown",
   "metadata": {},
   "source": [
    "Las maneras de mayor utilidad para generar un dataframe, son por medio de listas, diccionarios y la mas útil, exportando una base de datos externa, ya sea en formato CSV O XLSX."
   ]
  },
  {
   "cell_type": "markdown",
   "metadata": {},
   "source": [
    "* Insertar los datos desde una lista o un objeto np."
   ]
  },
  {
   "cell_type": "code",
   "execution_count": 29,
   "metadata": {},
   "outputs": [
    {
     "data": {
      "text/html": [
       "<div>\n",
       "<style scoped>\n",
       "    .dataframe tbody tr th:only-of-type {\n",
       "        vertical-align: middle;\n",
       "    }\n",
       "\n",
       "    .dataframe tbody tr th {\n",
       "        vertical-align: top;\n",
       "    }\n",
       "\n",
       "    .dataframe thead th {\n",
       "        text-align: right;\n",
       "    }\n",
       "</style>\n",
       "<table border=\"1\" class=\"dataframe\">\n",
       "  <thead>\n",
       "    <tr style=\"text-align: right;\">\n",
       "      <th></th>\n",
       "      <th>numero</th>\n",
       "    </tr>\n",
       "  </thead>\n",
       "  <tbody>\n",
       "    <tr>\n",
       "      <th>uno</th>\n",
       "      <td>1</td>\n",
       "    </tr>\n",
       "    <tr>\n",
       "      <th>dos</th>\n",
       "      <td>2</td>\n",
       "    </tr>\n",
       "    <tr>\n",
       "      <th>tres</th>\n",
       "      <td>3</td>\n",
       "    </tr>\n",
       "    <tr>\n",
       "      <th>cuatro</th>\n",
       "      <td>4</td>\n",
       "    </tr>\n",
       "    <tr>\n",
       "      <th>cinco</th>\n",
       "      <td>5</td>\n",
       "    </tr>\n",
       "    <tr>\n",
       "      <th>seis</th>\n",
       "      <td>6</td>\n",
       "    </tr>\n",
       "  </tbody>\n",
       "</table>\n",
       "</div>"
      ],
      "text/plain": [
       "        numero\n",
       "uno          1\n",
       "dos          2\n",
       "tres         3\n",
       "cuatro       4\n",
       "cinco        5\n",
       "seis         6"
      ]
     },
     "execution_count": 29,
     "metadata": {},
     "output_type": "execute_result"
    }
   ],
   "source": [
    "lista=[1,2,3,4,5,6]\n",
    "base=pd.DataFrame(lista,columns=[\"numero\"],index=[\"uno\",\"dos\",\"tres\",\n",
    "                                                 \"cuatro\",\"cinco\",\"seis\"])\n",
    "base"
   ]
  },
  {
   "cell_type": "markdown",
   "metadata": {},
   "source": [
    "* Ingresar los datos por medio de un diccionario de **listas**."
   ]
  },
  {
   "cell_type": "code",
   "execution_count": 30,
   "metadata": {},
   "outputs": [
    {
     "data": {
      "text/html": [
       "<div>\n",
       "<style scoped>\n",
       "    .dataframe tbody tr th:only-of-type {\n",
       "        vertical-align: middle;\n",
       "    }\n",
       "\n",
       "    .dataframe tbody tr th {\n",
       "        vertical-align: top;\n",
       "    }\n",
       "\n",
       "    .dataframe thead th {\n",
       "        text-align: right;\n",
       "    }\n",
       "</style>\n",
       "<table border=\"1\" class=\"dataframe\">\n",
       "  <thead>\n",
       "    <tr style=\"text-align: right;\">\n",
       "      <th></th>\n",
       "      <th>numero</th>\n",
       "    </tr>\n",
       "  </thead>\n",
       "  <tbody>\n",
       "    <tr>\n",
       "      <th>uno</th>\n",
       "      <td>1</td>\n",
       "    </tr>\n",
       "    <tr>\n",
       "      <th>dos</th>\n",
       "      <td>2</td>\n",
       "    </tr>\n",
       "    <tr>\n",
       "      <th>tres</th>\n",
       "      <td>3</td>\n",
       "    </tr>\n",
       "    <tr>\n",
       "      <th>cuatro</th>\n",
       "      <td>4</td>\n",
       "    </tr>\n",
       "    <tr>\n",
       "      <th>cinco</th>\n",
       "      <td>5</td>\n",
       "    </tr>\n",
       "    <tr>\n",
       "      <th>seis</th>\n",
       "      <td>6</td>\n",
       "    </tr>\n",
       "  </tbody>\n",
       "</table>\n",
       "</div>"
      ],
      "text/plain": [
       "        numero\n",
       "uno          1\n",
       "dos          2\n",
       "tres         3\n",
       "cuatro       4\n",
       "cinco        5\n",
       "seis         6"
      ]
     },
     "execution_count": 30,
     "metadata": {},
     "output_type": "execute_result"
    }
   ],
   "source": [
    "diccionario={\"numero\":[1,2,3,4,5,6]}\n",
    "base=pd.DataFrame(diccionario,index=[\"uno\",\"dos\",\"tres\",\n",
    "                                            \"cuatro\",\"cinco\",\"seis\"])\n",
    "base"
   ]
  },
  {
   "cell_type": "markdown",
   "metadata": {},
   "source": [
    "* Cargar un archivo de datos almacenado en nuestro ordenador, ya sea en formato excel o archivo CSV. Si la el archivo externo no se encuentra en la misma carpeta donde esta el codigo de python de la cual es invocada, se debe especificar la ruta desde root."
   ]
  },
  {
   "cell_type": "code",
   "execution_count": 31,
   "metadata": {},
   "outputs": [
    {
     "data": {
      "text/html": [
       "<div>\n",
       "<style scoped>\n",
       "    .dataframe tbody tr th:only-of-type {\n",
       "        vertical-align: middle;\n",
       "    }\n",
       "\n",
       "    .dataframe tbody tr th {\n",
       "        vertical-align: top;\n",
       "    }\n",
       "\n",
       "    .dataframe thead th {\n",
       "        text-align: right;\n",
       "    }\n",
       "</style>\n",
       "<table border=\"1\" class=\"dataframe\">\n",
       "  <thead>\n",
       "    <tr style=\"text-align: right;\">\n",
       "      <th></th>\n",
       "      <th>Numeros</th>\n",
       "    </tr>\n",
       "    <tr>\n",
       "      <th>nombres</th>\n",
       "      <th></th>\n",
       "    </tr>\n",
       "  </thead>\n",
       "  <tbody>\n",
       "    <tr>\n",
       "      <th>uno</th>\n",
       "      <td>1</td>\n",
       "    </tr>\n",
       "    <tr>\n",
       "      <th>dos</th>\n",
       "      <td>2</td>\n",
       "    </tr>\n",
       "    <tr>\n",
       "      <th>tres</th>\n",
       "      <td>3</td>\n",
       "    </tr>\n",
       "    <tr>\n",
       "      <th>cuatro</th>\n",
       "      <td>4</td>\n",
       "    </tr>\n",
       "    <tr>\n",
       "      <th>cinco</th>\n",
       "      <td>5</td>\n",
       "    </tr>\n",
       "    <tr>\n",
       "      <th>seis</th>\n",
       "      <td>6</td>\n",
       "    </tr>\n",
       "  </tbody>\n",
       "</table>\n",
       "</div>"
      ],
      "text/plain": [
       "         Numeros\n",
       "nombres         \n",
       "uno            1\n",
       "dos            2\n",
       "tres           3\n",
       "cuatro         4\n",
       "cinco          5\n",
       "seis           6"
      ]
     },
     "execution_count": 31,
     "metadata": {},
     "output_type": "execute_result"
    }
   ],
   "source": [
    "base=pd.read_excel(\"base.xlsx\",sheet_name=\"base\",index_col=\"nombres\")\n",
    "base"
   ]
  },
  {
   "cell_type": "markdown",
   "metadata": {},
   "source": [
    "## Añadir columnas \n"
   ]
  },
  {
   "cell_type": "markdown",
   "metadata": {},
   "source": [
    "Otro aspecto de gran relevancia cuando se trabaja con bases de datos, es la generacion de columnas. Los data frames en Python, pueden almacenar gran variedad de datos, sin embargo, para este analisis solo se considerar la divición entre columnas con información cuantitativa y columnas con informacion cualitativa."
   ]
  },
  {
   "cell_type": "markdown",
   "metadata": {},
   "source": [
    "### Generar columnas por indexación"
   ]
  },
  {
   "cell_type": "markdown",
   "metadata": {},
   "source": [
    "Para generar un columna cualitativa o cuantitativa de forma simple, se debe escribir el nombre del dataframe indexando el nombre de la columna. Se dede considerar que los dataframes son estructuras rectangulares o cuadrades, es decir, se necesita que la lista tenga el mismo número de filas que el dataframe para que se pueda concatenar."
   ]
  },
  {
   "cell_type": "code",
   "execution_count": 32,
   "metadata": {
    "scrolled": true
   },
   "outputs": [
    {
     "data": {
      "text/html": [
       "<div>\n",
       "<style scoped>\n",
       "    .dataframe tbody tr th:only-of-type {\n",
       "        vertical-align: middle;\n",
       "    }\n",
       "\n",
       "    .dataframe tbody tr th {\n",
       "        vertical-align: top;\n",
       "    }\n",
       "\n",
       "    .dataframe thead th {\n",
       "        text-align: right;\n",
       "    }\n",
       "</style>\n",
       "<table border=\"1\" class=\"dataframe\">\n",
       "  <thead>\n",
       "    <tr style=\"text-align: right;\">\n",
       "      <th></th>\n",
       "      <th>Numeros</th>\n",
       "      <th>sexo</th>\n",
       "      <th>Estado_civil</th>\n",
       "    </tr>\n",
       "    <tr>\n",
       "      <th>nombres</th>\n",
       "      <th></th>\n",
       "      <th></th>\n",
       "      <th></th>\n",
       "    </tr>\n",
       "  </thead>\n",
       "  <tbody>\n",
       "    <tr>\n",
       "      <th>uno</th>\n",
       "      <td>1</td>\n",
       "      <td>h</td>\n",
       "      <td>soltero</td>\n",
       "    </tr>\n",
       "    <tr>\n",
       "      <th>dos</th>\n",
       "      <td>2</td>\n",
       "      <td>h</td>\n",
       "      <td>casado</td>\n",
       "    </tr>\n",
       "    <tr>\n",
       "      <th>tres</th>\n",
       "      <td>3</td>\n",
       "      <td>h</td>\n",
       "      <td>casado</td>\n",
       "    </tr>\n",
       "    <tr>\n",
       "      <th>cuatro</th>\n",
       "      <td>4</td>\n",
       "      <td>m</td>\n",
       "      <td>soltero</td>\n",
       "    </tr>\n",
       "    <tr>\n",
       "      <th>cinco</th>\n",
       "      <td>5</td>\n",
       "      <td>h</td>\n",
       "      <td>viduo</td>\n",
       "    </tr>\n",
       "    <tr>\n",
       "      <th>seis</th>\n",
       "      <td>6</td>\n",
       "      <td>m</td>\n",
       "      <td>viudo</td>\n",
       "    </tr>\n",
       "  </tbody>\n",
       "</table>\n",
       "</div>"
      ],
      "text/plain": [
       "         Numeros sexo Estado_civil\n",
       "nombres                           \n",
       "uno            1    h      soltero\n",
       "dos            2    h       casado\n",
       "tres           3    h       casado\n",
       "cuatro         4    m      soltero\n",
       "cinco          5    h        viduo\n",
       "seis           6    m        viudo"
      ]
     },
     "execution_count": 32,
     "metadata": {},
     "output_type": "execute_result"
    }
   ],
   "source": [
    "base[\"sexo\"]=[\"h\",\"h\",\"h\",\"m\",\"h\",\"m\"]\n",
    "base[\"Estado_civil\"]=[\"soltero\",\"casado\",\"casado\",\"soltero\",\n",
    "                      \"viduo\",\"viudo\"]\n",
    "base"
   ]
  },
  {
   "cell_type": "markdown",
   "metadata": {},
   "source": [
    "### Añadir columna condicional"
   ]
  },
  {
   "cell_type": "markdown",
   "metadata": {},
   "source": [
    "* Por medio de una cohincidencia exacta se crea una nueva variable, utilizando una lista de comprención."
   ]
  },
  {
   "cell_type": "code",
   "execution_count": 33,
   "metadata": {
    "scrolled": true
   },
   "outputs": [
    {
     "data": {
      "text/html": [
       "<div>\n",
       "<style scoped>\n",
       "    .dataframe tbody tr th:only-of-type {\n",
       "        vertical-align: middle;\n",
       "    }\n",
       "\n",
       "    .dataframe tbody tr th {\n",
       "        vertical-align: top;\n",
       "    }\n",
       "\n",
       "    .dataframe thead th {\n",
       "        text-align: right;\n",
       "    }\n",
       "</style>\n",
       "<table border=\"1\" class=\"dataframe\">\n",
       "  <thead>\n",
       "    <tr style=\"text-align: right;\">\n",
       "      <th></th>\n",
       "      <th>Numeros</th>\n",
       "      <th>sexo</th>\n",
       "      <th>Estado_civil</th>\n",
       "      <th>idioneo</th>\n",
       "    </tr>\n",
       "    <tr>\n",
       "      <th>nombres</th>\n",
       "      <th></th>\n",
       "      <th></th>\n",
       "      <th></th>\n",
       "      <th></th>\n",
       "    </tr>\n",
       "  </thead>\n",
       "  <tbody>\n",
       "    <tr>\n",
       "      <th>uno</th>\n",
       "      <td>1</td>\n",
       "      <td>h</td>\n",
       "      <td>soltero</td>\n",
       "      <td>no-idoneo</td>\n",
       "    </tr>\n",
       "    <tr>\n",
       "      <th>dos</th>\n",
       "      <td>2</td>\n",
       "      <td>h</td>\n",
       "      <td>casado</td>\n",
       "      <td>no-idoneo</td>\n",
       "    </tr>\n",
       "    <tr>\n",
       "      <th>tres</th>\n",
       "      <td>3</td>\n",
       "      <td>h</td>\n",
       "      <td>casado</td>\n",
       "      <td>no-idoneo</td>\n",
       "    </tr>\n",
       "    <tr>\n",
       "      <th>cuatro</th>\n",
       "      <td>4</td>\n",
       "      <td>m</td>\n",
       "      <td>soltero</td>\n",
       "      <td>idoneo</td>\n",
       "    </tr>\n",
       "    <tr>\n",
       "      <th>cinco</th>\n",
       "      <td>5</td>\n",
       "      <td>h</td>\n",
       "      <td>viduo</td>\n",
       "      <td>no-idoneo</td>\n",
       "    </tr>\n",
       "    <tr>\n",
       "      <th>seis</th>\n",
       "      <td>6</td>\n",
       "      <td>m</td>\n",
       "      <td>viudo</td>\n",
       "      <td>semi-idoneo</td>\n",
       "    </tr>\n",
       "  </tbody>\n",
       "</table>\n",
       "</div>"
      ],
      "text/plain": [
       "         Numeros sexo Estado_civil      idioneo\n",
       "nombres                                        \n",
       "uno            1    h      soltero    no-idoneo\n",
       "dos            2    h       casado    no-idoneo\n",
       "tres           3    h       casado    no-idoneo\n",
       "cuatro         4    m      soltero       idoneo\n",
       "cinco          5    h        viduo    no-idoneo\n",
       "seis           6    m        viudo  semi-idoneo"
      ]
     },
     "execution_count": 33,
     "metadata": {},
     "output_type": "execute_result"
    }
   ],
   "source": [
    "\"\"\"se considera idoneo a la persona que es mujer y soltera; \n",
    "semi-idonea a la que es mujer y viuda y a los hombres no-idoneos\"\"\"\n",
    "\n",
    "base[\"idioneo\"]=[\"idoneo\" if i ==\"m\" and j==\"soltero\" else\n",
    "                \"semi-idoneo\" if i ==\"m\" and j==\"viudo\" else\n",
    "                \"no-idoneo\"\n",
    "                 for i,j in zip(base.sexo,base.Estado_civil)]\n",
    "base"
   ]
  },
  {
   "cell_type": "markdown",
   "metadata": {},
   "source": [
    "* Otra opción muy util, es generar una variable a partir de la coincidencia de un string dentro de la variable."
   ]
  },
  {
   "cell_type": "code",
   "execution_count": 34,
   "metadata": {
    "scrolled": true
   },
   "outputs": [
    {
     "data": {
      "text/html": [
       "<div>\n",
       "<style scoped>\n",
       "    .dataframe tbody tr th:only-of-type {\n",
       "        vertical-align: middle;\n",
       "    }\n",
       "\n",
       "    .dataframe tbody tr th {\n",
       "        vertical-align: top;\n",
       "    }\n",
       "\n",
       "    .dataframe thead th {\n",
       "        text-align: right;\n",
       "    }\n",
       "</style>\n",
       "<table border=\"1\" class=\"dataframe\">\n",
       "  <thead>\n",
       "    <tr style=\"text-align: right;\">\n",
       "      <th></th>\n",
       "      <th>Numeros</th>\n",
       "      <th>sexo</th>\n",
       "      <th>Estado_civil</th>\n",
       "      <th>idioneo</th>\n",
       "      <th>volcal_a</th>\n",
       "    </tr>\n",
       "    <tr>\n",
       "      <th>nombres</th>\n",
       "      <th></th>\n",
       "      <th></th>\n",
       "      <th></th>\n",
       "      <th></th>\n",
       "      <th></th>\n",
       "    </tr>\n",
       "  </thead>\n",
       "  <tbody>\n",
       "    <tr>\n",
       "      <th>uno</th>\n",
       "      <td>1</td>\n",
       "      <td>h</td>\n",
       "      <td>soltero</td>\n",
       "      <td>no-idoneo</td>\n",
       "      <td>no tiene</td>\n",
       "    </tr>\n",
       "    <tr>\n",
       "      <th>dos</th>\n",
       "      <td>2</td>\n",
       "      <td>h</td>\n",
       "      <td>casado</td>\n",
       "      <td>no-idoneo</td>\n",
       "      <td>si tiene</td>\n",
       "    </tr>\n",
       "    <tr>\n",
       "      <th>tres</th>\n",
       "      <td>3</td>\n",
       "      <td>h</td>\n",
       "      <td>casado</td>\n",
       "      <td>no-idoneo</td>\n",
       "      <td>si tiene</td>\n",
       "    </tr>\n",
       "    <tr>\n",
       "      <th>cuatro</th>\n",
       "      <td>4</td>\n",
       "      <td>m</td>\n",
       "      <td>soltero</td>\n",
       "      <td>idoneo</td>\n",
       "      <td>no tiene</td>\n",
       "    </tr>\n",
       "    <tr>\n",
       "      <th>cinco</th>\n",
       "      <td>5</td>\n",
       "      <td>h</td>\n",
       "      <td>viduo</td>\n",
       "      <td>no-idoneo</td>\n",
       "      <td>no tiene</td>\n",
       "    </tr>\n",
       "    <tr>\n",
       "      <th>seis</th>\n",
       "      <td>6</td>\n",
       "      <td>m</td>\n",
       "      <td>viudo</td>\n",
       "      <td>semi-idoneo</td>\n",
       "      <td>no tiene</td>\n",
       "    </tr>\n",
       "  </tbody>\n",
       "</table>\n",
       "</div>"
      ],
      "text/plain": [
       "         Numeros sexo Estado_civil      idioneo  volcal_a\n",
       "nombres                                                  \n",
       "uno            1    h      soltero    no-idoneo  no tiene\n",
       "dos            2    h       casado    no-idoneo  si tiene\n",
       "tres           3    h       casado    no-idoneo  si tiene\n",
       "cuatro         4    m      soltero       idoneo  no tiene\n",
       "cinco          5    h        viduo    no-idoneo  no tiene\n",
       "seis           6    m        viudo  semi-idoneo  no tiene"
      ]
     },
     "execution_count": 34,
     "metadata": {},
     "output_type": "execute_result"
    }
   ],
   "source": [
    "base[\"volcal_a\"]=[\"si tiene\" if \"a\" in str(i) else \"no tiene\"\n",
    "                 for i in base.Estado_civil]\n",
    "base"
   ]
  },
  {
   "cell_type": "markdown",
   "metadata": {},
   "source": [
    "### Generar una columan por medio de un cálculo matemático"
   ]
  },
  {
   "cell_type": "markdown",
   "metadata": {},
   "source": [
    "Utilizando pandas se puede generar columanas a partir de simples cálculos, tales como: añadir una unidad a una variable, dividir, ultiplicar etc."
   ]
  },
  {
   "cell_type": "code",
   "execution_count": 35,
   "metadata": {},
   "outputs": [
    {
     "data": {
      "text/html": [
       "<div>\n",
       "<style scoped>\n",
       "    .dataframe tbody tr th:only-of-type {\n",
       "        vertical-align: middle;\n",
       "    }\n",
       "\n",
       "    .dataframe tbody tr th {\n",
       "        vertical-align: top;\n",
       "    }\n",
       "\n",
       "    .dataframe thead th {\n",
       "        text-align: right;\n",
       "    }\n",
       "</style>\n",
       "<table border=\"1\" class=\"dataframe\">\n",
       "  <thead>\n",
       "    <tr style=\"text-align: right;\">\n",
       "      <th></th>\n",
       "      <th>Numeros</th>\n",
       "      <th>sexo</th>\n",
       "      <th>Estado_civil</th>\n",
       "      <th>idioneo</th>\n",
       "      <th>volcal_a</th>\n",
       "      <th>Num_+1</th>\n",
       "    </tr>\n",
       "    <tr>\n",
       "      <th>nombres</th>\n",
       "      <th></th>\n",
       "      <th></th>\n",
       "      <th></th>\n",
       "      <th></th>\n",
       "      <th></th>\n",
       "      <th></th>\n",
       "    </tr>\n",
       "  </thead>\n",
       "  <tbody>\n",
       "    <tr>\n",
       "      <th>uno</th>\n",
       "      <td>1</td>\n",
       "      <td>h</td>\n",
       "      <td>soltero</td>\n",
       "      <td>no-idoneo</td>\n",
       "      <td>no tiene</td>\n",
       "      <td>2</td>\n",
       "    </tr>\n",
       "    <tr>\n",
       "      <th>dos</th>\n",
       "      <td>2</td>\n",
       "      <td>h</td>\n",
       "      <td>casado</td>\n",
       "      <td>no-idoneo</td>\n",
       "      <td>si tiene</td>\n",
       "      <td>3</td>\n",
       "    </tr>\n",
       "    <tr>\n",
       "      <th>tres</th>\n",
       "      <td>3</td>\n",
       "      <td>h</td>\n",
       "      <td>casado</td>\n",
       "      <td>no-idoneo</td>\n",
       "      <td>si tiene</td>\n",
       "      <td>4</td>\n",
       "    </tr>\n",
       "    <tr>\n",
       "      <th>cuatro</th>\n",
       "      <td>4</td>\n",
       "      <td>m</td>\n",
       "      <td>soltero</td>\n",
       "      <td>idoneo</td>\n",
       "      <td>no tiene</td>\n",
       "      <td>5</td>\n",
       "    </tr>\n",
       "    <tr>\n",
       "      <th>cinco</th>\n",
       "      <td>5</td>\n",
       "      <td>h</td>\n",
       "      <td>viduo</td>\n",
       "      <td>no-idoneo</td>\n",
       "      <td>no tiene</td>\n",
       "      <td>6</td>\n",
       "    </tr>\n",
       "    <tr>\n",
       "      <th>seis</th>\n",
       "      <td>6</td>\n",
       "      <td>m</td>\n",
       "      <td>viudo</td>\n",
       "      <td>semi-idoneo</td>\n",
       "      <td>no tiene</td>\n",
       "      <td>7</td>\n",
       "    </tr>\n",
       "  </tbody>\n",
       "</table>\n",
       "</div>"
      ],
      "text/plain": [
       "         Numeros sexo Estado_civil      idioneo  volcal_a  Num_+1\n",
       "nombres                                                          \n",
       "uno            1    h      soltero    no-idoneo  no tiene       2\n",
       "dos            2    h       casado    no-idoneo  si tiene       3\n",
       "tres           3    h       casado    no-idoneo  si tiene       4\n",
       "cuatro         4    m      soltero       idoneo  no tiene       5\n",
       "cinco          5    h        viduo    no-idoneo  no tiene       6\n",
       "seis           6    m        viudo  semi-idoneo  no tiene       7"
      ]
     },
     "execution_count": 35,
     "metadata": {},
     "output_type": "execute_result"
    }
   ],
   "source": [
    "base[\"Num_+1\"]=base.Numeros+1\n",
    "base"
   ]
  },
  {
   "cell_type": "markdown",
   "metadata": {},
   "source": [
    "De porfa similar se pueden realizar cálculos entre los valores de de las variables"
   ]
  },
  {
   "cell_type": "code",
   "execution_count": 36,
   "metadata": {
    "scrolled": true
   },
   "outputs": [
    {
     "data": {
      "text/html": [
       "<div>\n",
       "<style scoped>\n",
       "    .dataframe tbody tr th:only-of-type {\n",
       "        vertical-align: middle;\n",
       "    }\n",
       "\n",
       "    .dataframe tbody tr th {\n",
       "        vertical-align: top;\n",
       "    }\n",
       "\n",
       "    .dataframe thead th {\n",
       "        text-align: right;\n",
       "    }\n",
       "</style>\n",
       "<table border=\"1\" class=\"dataframe\">\n",
       "  <thead>\n",
       "    <tr style=\"text-align: right;\">\n",
       "      <th></th>\n",
       "      <th>Numeros</th>\n",
       "      <th>sexo</th>\n",
       "      <th>Estado_civil</th>\n",
       "      <th>idioneo</th>\n",
       "      <th>volcal_a</th>\n",
       "      <th>Num_+1</th>\n",
       "      <th>Num+2-num</th>\n",
       "    </tr>\n",
       "    <tr>\n",
       "      <th>nombres</th>\n",
       "      <th></th>\n",
       "      <th></th>\n",
       "      <th></th>\n",
       "      <th></th>\n",
       "      <th></th>\n",
       "      <th></th>\n",
       "      <th></th>\n",
       "    </tr>\n",
       "  </thead>\n",
       "  <tbody>\n",
       "    <tr>\n",
       "      <th>uno</th>\n",
       "      <td>1</td>\n",
       "      <td>h</td>\n",
       "      <td>soltero</td>\n",
       "      <td>no-idoneo</td>\n",
       "      <td>no tiene</td>\n",
       "      <td>2</td>\n",
       "      <td>2.875</td>\n",
       "    </tr>\n",
       "    <tr>\n",
       "      <th>dos</th>\n",
       "      <td>2</td>\n",
       "      <td>h</td>\n",
       "      <td>casado</td>\n",
       "      <td>no-idoneo</td>\n",
       "      <td>si tiene</td>\n",
       "      <td>3</td>\n",
       "      <td>3.750</td>\n",
       "    </tr>\n",
       "    <tr>\n",
       "      <th>tres</th>\n",
       "      <td>3</td>\n",
       "      <td>h</td>\n",
       "      <td>casado</td>\n",
       "      <td>no-idoneo</td>\n",
       "      <td>si tiene</td>\n",
       "      <td>4</td>\n",
       "      <td>4.625</td>\n",
       "    </tr>\n",
       "    <tr>\n",
       "      <th>cuatro</th>\n",
       "      <td>4</td>\n",
       "      <td>m</td>\n",
       "      <td>soltero</td>\n",
       "      <td>idoneo</td>\n",
       "      <td>no tiene</td>\n",
       "      <td>5</td>\n",
       "      <td>5.500</td>\n",
       "    </tr>\n",
       "    <tr>\n",
       "      <th>cinco</th>\n",
       "      <td>5</td>\n",
       "      <td>h</td>\n",
       "      <td>viduo</td>\n",
       "      <td>no-idoneo</td>\n",
       "      <td>no tiene</td>\n",
       "      <td>6</td>\n",
       "      <td>6.375</td>\n",
       "    </tr>\n",
       "    <tr>\n",
       "      <th>seis</th>\n",
       "      <td>6</td>\n",
       "      <td>m</td>\n",
       "      <td>viudo</td>\n",
       "      <td>semi-idoneo</td>\n",
       "      <td>no tiene</td>\n",
       "      <td>7</td>\n",
       "      <td>7.250</td>\n",
       "    </tr>\n",
       "  </tbody>\n",
       "</table>\n",
       "</div>"
      ],
      "text/plain": [
       "         Numeros sexo Estado_civil      idioneo  volcal_a  Num_+1  Num+2-num\n",
       "nombres                                                                     \n",
       "uno            1    h      soltero    no-idoneo  no tiene       2      2.875\n",
       "dos            2    h       casado    no-idoneo  si tiene       3      3.750\n",
       "tres           3    h       casado    no-idoneo  si tiene       4      4.625\n",
       "cuatro         4    m      soltero       idoneo  no tiene       5      5.500\n",
       "cinco          5    h        viduo    no-idoneo  no tiene       6      6.375\n",
       "seis           6    m        viudo  semi-idoneo  no tiene       7      7.250"
      ]
     },
     "execution_count": 36,
     "metadata": {},
     "output_type": "execute_result"
    }
   ],
   "source": [
    "base[\"Num+2-num\"]=base.Numeros+2-base.Numeros/8\n",
    "base"
   ]
  },
  {
   "cell_type": "markdown",
   "metadata": {},
   "source": [
    "* Tambien se puede etiquetar los rangos de una variable numérica, para el siguiente ejemplo se atiqueta según el cuarltil al que pertenece:"
   ]
  },
  {
   "cell_type": "code",
   "execution_count": 37,
   "metadata": {
    "scrolled": true
   },
   "outputs": [
    {
     "data": {
      "text/html": [
       "<div>\n",
       "<style scoped>\n",
       "    .dataframe tbody tr th:only-of-type {\n",
       "        vertical-align: middle;\n",
       "    }\n",
       "\n",
       "    .dataframe tbody tr th {\n",
       "        vertical-align: top;\n",
       "    }\n",
       "\n",
       "    .dataframe thead th {\n",
       "        text-align: right;\n",
       "    }\n",
       "</style>\n",
       "<table border=\"1\" class=\"dataframe\">\n",
       "  <thead>\n",
       "    <tr style=\"text-align: right;\">\n",
       "      <th></th>\n",
       "      <th>Numeros</th>\n",
       "      <th>sexo</th>\n",
       "      <th>Estado_civil</th>\n",
       "      <th>idioneo</th>\n",
       "      <th>volcal_a</th>\n",
       "      <th>Num_+1</th>\n",
       "      <th>Num+2-num</th>\n",
       "      <th>rango_cuartil</th>\n",
       "    </tr>\n",
       "    <tr>\n",
       "      <th>nombres</th>\n",
       "      <th></th>\n",
       "      <th></th>\n",
       "      <th></th>\n",
       "      <th></th>\n",
       "      <th></th>\n",
       "      <th></th>\n",
       "      <th></th>\n",
       "      <th></th>\n",
       "    </tr>\n",
       "  </thead>\n",
       "  <tbody>\n",
       "    <tr>\n",
       "      <th>uno</th>\n",
       "      <td>1</td>\n",
       "      <td>h</td>\n",
       "      <td>soltero</td>\n",
       "      <td>no-idoneo</td>\n",
       "      <td>no tiene</td>\n",
       "      <td>2</td>\n",
       "      <td>2.875</td>\n",
       "      <td>C_1</td>\n",
       "    </tr>\n",
       "    <tr>\n",
       "      <th>dos</th>\n",
       "      <td>2</td>\n",
       "      <td>h</td>\n",
       "      <td>casado</td>\n",
       "      <td>no-idoneo</td>\n",
       "      <td>si tiene</td>\n",
       "      <td>3</td>\n",
       "      <td>3.750</td>\n",
       "      <td>C_1</td>\n",
       "    </tr>\n",
       "    <tr>\n",
       "      <th>tres</th>\n",
       "      <td>3</td>\n",
       "      <td>h</td>\n",
       "      <td>casado</td>\n",
       "      <td>no-idoneo</td>\n",
       "      <td>si tiene</td>\n",
       "      <td>4</td>\n",
       "      <td>4.625</td>\n",
       "      <td>C_2</td>\n",
       "    </tr>\n",
       "    <tr>\n",
       "      <th>cuatro</th>\n",
       "      <td>4</td>\n",
       "      <td>m</td>\n",
       "      <td>soltero</td>\n",
       "      <td>idoneo</td>\n",
       "      <td>no tiene</td>\n",
       "      <td>5</td>\n",
       "      <td>5.500</td>\n",
       "      <td>C_3</td>\n",
       "    </tr>\n",
       "    <tr>\n",
       "      <th>cinco</th>\n",
       "      <td>5</td>\n",
       "      <td>h</td>\n",
       "      <td>viduo</td>\n",
       "      <td>no-idoneo</td>\n",
       "      <td>no tiene</td>\n",
       "      <td>6</td>\n",
       "      <td>6.375</td>\n",
       "      <td>C_4</td>\n",
       "    </tr>\n",
       "    <tr>\n",
       "      <th>seis</th>\n",
       "      <td>6</td>\n",
       "      <td>m</td>\n",
       "      <td>viudo</td>\n",
       "      <td>semi-idoneo</td>\n",
       "      <td>no tiene</td>\n",
       "      <td>7</td>\n",
       "      <td>7.250</td>\n",
       "      <td>C_4</td>\n",
       "    </tr>\n",
       "  </tbody>\n",
       "</table>\n",
       "</div>"
      ],
      "text/plain": [
       "         Numeros sexo Estado_civil      idioneo  volcal_a  Num_+1  Num+2-num  \\\n",
       "nombres                                                                        \n",
       "uno            1    h      soltero    no-idoneo  no tiene       2      2.875   \n",
       "dos            2    h       casado    no-idoneo  si tiene       3      3.750   \n",
       "tres           3    h       casado    no-idoneo  si tiene       4      4.625   \n",
       "cuatro         4    m      soltero       idoneo  no tiene       5      5.500   \n",
       "cinco          5    h        viduo    no-idoneo  no tiene       6      6.375   \n",
       "seis           6    m        viudo  semi-idoneo  no tiene       7      7.250   \n",
       "\n",
       "        rango_cuartil  \n",
       "nombres                \n",
       "uno               C_1  \n",
       "dos               C_1  \n",
       "tres              C_2  \n",
       "cuatro            C_3  \n",
       "cinco             C_4  \n",
       "seis              C_4  "
      ]
     },
     "execution_count": 37,
     "metadata": {},
     "output_type": "execute_result"
    }
   ],
   "source": [
    "base[\"rango_cuartil\"] = pd.cut(base[\"Numeros\"], [0,2.25,3.50,4.75,6],\n",
    "                           labels = [\"C_1\",\"C_2\",\"C_3\",\"C_4\"])\n",
    "base\n"
   ]
  },
  {
   "cell_type": "markdown",
   "metadata": {},
   "source": [
    "## Atributos utiles de un Dataframe"
   ]
  },
  {
   "cell_type": "markdown",
   "metadata": {},
   "source": [
    "A continuación se muestran los atributos y metodos, de mayor utilidad al trabajar con bases de datos."
   ]
  },
  {
   "cell_type": "markdown",
   "metadata": {},
   "source": [
    "* Dimención de la matriz."
   ]
  },
  {
   "cell_type": "code",
   "execution_count": 38,
   "metadata": {},
   "outputs": [
    {
     "data": {
      "text/plain": [
       "(6, 8)"
      ]
     },
     "execution_count": 38,
     "metadata": {},
     "output_type": "execute_result"
    }
   ],
   "source": [
    "base.shape"
   ]
  },
  {
   "cell_type": "markdown",
   "metadata": {},
   "source": [
    "* Número total de elementos en filas y columnas."
   ]
  },
  {
   "cell_type": "code",
   "execution_count": 39,
   "metadata": {},
   "outputs": [
    {
     "data": {
      "text/plain": [
       "48"
      ]
     },
     "execution_count": 39,
     "metadata": {},
     "output_type": "execute_result"
    }
   ],
   "source": [
    "base.size"
   ]
  },
  {
   "cell_type": "markdown",
   "metadata": {},
   "source": [
    "* Nombre de las columnas."
   ]
  },
  {
   "cell_type": "code",
   "execution_count": 40,
   "metadata": {},
   "outputs": [
    {
     "data": {
      "text/plain": [
       "Index(['Numeros', 'sexo', 'Estado_civil', 'idioneo', 'volcal_a', 'Num_+1',\n",
       "       'Num+2-num', 'rango_cuartil'],\n",
       "      dtype='object')"
      ]
     },
     "execution_count": 40,
     "metadata": {},
     "output_type": "execute_result"
    }
   ],
   "source": [
    "base.columns"
   ]
  },
  {
   "cell_type": "markdown",
   "metadata": {},
   "source": [
    "* Tipos de datos almacenados en cada columna."
   ]
  },
  {
   "cell_type": "code",
   "execution_count": 41,
   "metadata": {
    "scrolled": true
   },
   "outputs": [
    {
     "data": {
      "text/plain": [
       "Numeros             int64\n",
       "sexo               object\n",
       "Estado_civil       object\n",
       "idioneo            object\n",
       "volcal_a           object\n",
       "Num_+1              int64\n",
       "Num+2-num         float64\n",
       "rango_cuartil    category\n",
       "dtype: object"
      ]
     },
     "execution_count": 41,
     "metadata": {},
     "output_type": "execute_result"
    }
   ],
   "source": [
    "base.dtypes"
   ]
  },
  {
   "cell_type": "markdown",
   "metadata": {},
   "source": [
    "* Y la opción más util, info() dado que muestra el tipo de variable la cantidad de datos y la existencia de valores nulos."
   ]
  },
  {
   "cell_type": "code",
   "execution_count": 42,
   "metadata": {},
   "outputs": [
    {
     "name": "stdout",
     "output_type": "stream",
     "text": [
      "<class 'pandas.core.frame.DataFrame'>\n",
      "Index: 6 entries, uno to seis\n",
      "Data columns (total 8 columns):\n",
      " #   Column         Non-Null Count  Dtype   \n",
      "---  ------         --------------  -----   \n",
      " 0   Numeros        6 non-null      int64   \n",
      " 1   sexo           6 non-null      object  \n",
      " 2   Estado_civil   6 non-null      object  \n",
      " 3   idioneo        6 non-null      object  \n",
      " 4   volcal_a       6 non-null      object  \n",
      " 5   Num_+1         6 non-null      int64   \n",
      " 6   Num+2-num      6 non-null      float64 \n",
      " 7   rango_cuartil  6 non-null      category\n",
      "dtypes: category(1), float64(1), int64(2), object(4)\n",
      "memory usage: 582.0+ bytes\n"
     ]
    }
   ],
   "source": [
    "base.info()"
   ]
  },
  {
   "cell_type": "markdown",
   "metadata": {},
   "source": [
    "## Dividir Dataframe"
   ]
  },
  {
   "cell_type": "markdown",
   "metadata": {},
   "source": [
    "Al trabajar con bases de datos se presetan gran cantidad de requerimientos de análisis de datos, entre estos esta la segmentación de dataframes; Para esto se puede utilizar multiples herramientas, a continución se muestra las que a mi opinión son las mas útiles."
   ]
  },
  {
   "cell_type": "markdown",
   "metadata": {},
   "source": [
    "* Se puede dividir un dataframe en base a condicion, **no se puede utilizar la nomenclatura del punto, si no la del corchte**."
   ]
  },
  {
   "cell_type": "code",
   "execution_count": 43,
   "metadata": {
    "scrolled": true
   },
   "outputs": [
    {
     "data": {
      "text/html": [
       "<div>\n",
       "<style scoped>\n",
       "    .dataframe tbody tr th:only-of-type {\n",
       "        vertical-align: middle;\n",
       "    }\n",
       "\n",
       "    .dataframe tbody tr th {\n",
       "        vertical-align: top;\n",
       "    }\n",
       "\n",
       "    .dataframe thead th {\n",
       "        text-align: right;\n",
       "    }\n",
       "</style>\n",
       "<table border=\"1\" class=\"dataframe\">\n",
       "  <thead>\n",
       "    <tr style=\"text-align: right;\">\n",
       "      <th></th>\n",
       "      <th>Numeros</th>\n",
       "      <th>sexo</th>\n",
       "      <th>Estado_civil</th>\n",
       "      <th>idioneo</th>\n",
       "      <th>volcal_a</th>\n",
       "      <th>Num_+1</th>\n",
       "      <th>Num+2-num</th>\n",
       "      <th>rango_cuartil</th>\n",
       "    </tr>\n",
       "    <tr>\n",
       "      <th>nombres</th>\n",
       "      <th></th>\n",
       "      <th></th>\n",
       "      <th></th>\n",
       "      <th></th>\n",
       "      <th></th>\n",
       "      <th></th>\n",
       "      <th></th>\n",
       "      <th></th>\n",
       "    </tr>\n",
       "  </thead>\n",
       "  <tbody>\n",
       "    <tr>\n",
       "      <th>uno</th>\n",
       "      <td>1</td>\n",
       "      <td>h</td>\n",
       "      <td>soltero</td>\n",
       "      <td>no-idoneo</td>\n",
       "      <td>no tiene</td>\n",
       "      <td>2</td>\n",
       "      <td>2.875</td>\n",
       "      <td>C_1</td>\n",
       "    </tr>\n",
       "    <tr>\n",
       "      <th>dos</th>\n",
       "      <td>2</td>\n",
       "      <td>h</td>\n",
       "      <td>casado</td>\n",
       "      <td>no-idoneo</td>\n",
       "      <td>si tiene</td>\n",
       "      <td>3</td>\n",
       "      <td>3.750</td>\n",
       "      <td>C_1</td>\n",
       "    </tr>\n",
       "    <tr>\n",
       "      <th>tres</th>\n",
       "      <td>3</td>\n",
       "      <td>h</td>\n",
       "      <td>casado</td>\n",
       "      <td>no-idoneo</td>\n",
       "      <td>si tiene</td>\n",
       "      <td>4</td>\n",
       "      <td>4.625</td>\n",
       "      <td>C_2</td>\n",
       "    </tr>\n",
       "    <tr>\n",
       "      <th>cinco</th>\n",
       "      <td>5</td>\n",
       "      <td>h</td>\n",
       "      <td>viduo</td>\n",
       "      <td>no-idoneo</td>\n",
       "      <td>no tiene</td>\n",
       "      <td>6</td>\n",
       "      <td>6.375</td>\n",
       "      <td>C_4</td>\n",
       "    </tr>\n",
       "  </tbody>\n",
       "</table>\n",
       "</div>"
      ],
      "text/plain": [
       "         Numeros sexo Estado_civil    idioneo  volcal_a  Num_+1  Num+2-num  \\\n",
       "nombres                                                                      \n",
       "uno            1    h      soltero  no-idoneo  no tiene       2      2.875   \n",
       "dos            2    h       casado  no-idoneo  si tiene       3      3.750   \n",
       "tres           3    h       casado  no-idoneo  si tiene       4      4.625   \n",
       "cinco          5    h        viduo  no-idoneo  no tiene       6      6.375   \n",
       "\n",
       "        rango_cuartil  \n",
       "nombres                \n",
       "uno               C_1  \n",
       "dos               C_1  \n",
       "tres              C_2  \n",
       "cinco             C_4  "
      ]
     },
     "execution_count": 43,
     "metadata": {},
     "output_type": "execute_result"
    }
   ],
   "source": [
    "base_hombres=base[base[\"sexo\"]==\"h\"]\n",
    "base_hombres"
   ]
  },
  {
   "cell_type": "markdown",
   "metadata": {},
   "source": [
    "* Dividir el dataframe en base a varios criterios de una columna."
   ]
  },
  {
   "cell_type": "code",
   "execution_count": 44,
   "metadata": {
    "scrolled": true
   },
   "outputs": [
    {
     "data": {
      "text/html": [
       "<div>\n",
       "<style scoped>\n",
       "    .dataframe tbody tr th:only-of-type {\n",
       "        vertical-align: middle;\n",
       "    }\n",
       "\n",
       "    .dataframe tbody tr th {\n",
       "        vertical-align: top;\n",
       "    }\n",
       "\n",
       "    .dataframe thead th {\n",
       "        text-align: right;\n",
       "    }\n",
       "</style>\n",
       "<table border=\"1\" class=\"dataframe\">\n",
       "  <thead>\n",
       "    <tr style=\"text-align: right;\">\n",
       "      <th></th>\n",
       "      <th>Numeros</th>\n",
       "      <th>sexo</th>\n",
       "      <th>Estado_civil</th>\n",
       "      <th>idioneo</th>\n",
       "      <th>volcal_a</th>\n",
       "      <th>Num_+1</th>\n",
       "      <th>Num+2-num</th>\n",
       "      <th>rango_cuartil</th>\n",
       "    </tr>\n",
       "    <tr>\n",
       "      <th>nombres</th>\n",
       "      <th></th>\n",
       "      <th></th>\n",
       "      <th></th>\n",
       "      <th></th>\n",
       "      <th></th>\n",
       "      <th></th>\n",
       "      <th></th>\n",
       "      <th></th>\n",
       "    </tr>\n",
       "  </thead>\n",
       "  <tbody>\n",
       "    <tr>\n",
       "      <th>uno</th>\n",
       "      <td>1</td>\n",
       "      <td>h</td>\n",
       "      <td>soltero</td>\n",
       "      <td>no-idoneo</td>\n",
       "      <td>no tiene</td>\n",
       "      <td>2</td>\n",
       "      <td>2.875</td>\n",
       "      <td>C_1</td>\n",
       "    </tr>\n",
       "    <tr>\n",
       "      <th>dos</th>\n",
       "      <td>2</td>\n",
       "      <td>h</td>\n",
       "      <td>casado</td>\n",
       "      <td>no-idoneo</td>\n",
       "      <td>si tiene</td>\n",
       "      <td>3</td>\n",
       "      <td>3.750</td>\n",
       "      <td>C_1</td>\n",
       "    </tr>\n",
       "  </tbody>\n",
       "</table>\n",
       "</div>"
      ],
      "text/plain": [
       "         Numeros sexo Estado_civil    idioneo  volcal_a  Num_+1  Num+2-num  \\\n",
       "nombres                                                                      \n",
       "uno            1    h      soltero  no-idoneo  no tiene       2      2.875   \n",
       "dos            2    h       casado  no-idoneo  si tiene       3      3.750   \n",
       "\n",
       "        rango_cuartil  \n",
       "nombres                \n",
       "uno               C_1  \n",
       "dos               C_1  "
      ]
     },
     "execution_count": 44,
     "metadata": {},
     "output_type": "execute_result"
    }
   ],
   "source": [
    "base_12 = base[base[\"Numeros\"].isin([1,2])]\n",
    "base_12"
   ]
  },
  {
   "cell_type": "markdown",
   "metadata": {},
   "source": [
    "* Dividir una columna en base a multiples criterios de varias columnas."
   ]
  },
  {
   "cell_type": "code",
   "execution_count": 45,
   "metadata": {
    "scrolled": true
   },
   "outputs": [
    {
     "data": {
      "text/html": [
       "<div>\n",
       "<style scoped>\n",
       "    .dataframe tbody tr th:only-of-type {\n",
       "        vertical-align: middle;\n",
       "    }\n",
       "\n",
       "    .dataframe tbody tr th {\n",
       "        vertical-align: top;\n",
       "    }\n",
       "\n",
       "    .dataframe thead th {\n",
       "        text-align: right;\n",
       "    }\n",
       "</style>\n",
       "<table border=\"1\" class=\"dataframe\">\n",
       "  <thead>\n",
       "    <tr style=\"text-align: right;\">\n",
       "      <th></th>\n",
       "      <th>Numeros</th>\n",
       "      <th>sexo</th>\n",
       "      <th>Estado_civil</th>\n",
       "      <th>idioneo</th>\n",
       "      <th>volcal_a</th>\n",
       "      <th>Num_+1</th>\n",
       "      <th>Num+2-num</th>\n",
       "      <th>rango_cuartil</th>\n",
       "    </tr>\n",
       "    <tr>\n",
       "      <th>nombres</th>\n",
       "      <th></th>\n",
       "      <th></th>\n",
       "      <th></th>\n",
       "      <th></th>\n",
       "      <th></th>\n",
       "      <th></th>\n",
       "      <th></th>\n",
       "      <th></th>\n",
       "    </tr>\n",
       "  </thead>\n",
       "  <tbody>\n",
       "    <tr>\n",
       "      <th>dos</th>\n",
       "      <td>2</td>\n",
       "      <td>h</td>\n",
       "      <td>casado</td>\n",
       "      <td>no-idoneo</td>\n",
       "      <td>si tiene</td>\n",
       "      <td>3</td>\n",
       "      <td>3.750</td>\n",
       "      <td>C_1</td>\n",
       "    </tr>\n",
       "    <tr>\n",
       "      <th>tres</th>\n",
       "      <td>3</td>\n",
       "      <td>h</td>\n",
       "      <td>casado</td>\n",
       "      <td>no-idoneo</td>\n",
       "      <td>si tiene</td>\n",
       "      <td>4</td>\n",
       "      <td>4.625</td>\n",
       "      <td>C_2</td>\n",
       "    </tr>\n",
       "  </tbody>\n",
       "</table>\n",
       "</div>"
      ],
      "text/plain": [
       "         Numeros sexo Estado_civil    idioneo  volcal_a  Num_+1  Num+2-num  \\\n",
       "nombres                                                                      \n",
       "dos            2    h       casado  no-idoneo  si tiene       3      3.750   \n",
       "tres           3    h       casado  no-idoneo  si tiene       4      4.625   \n",
       "\n",
       "        rango_cuartil  \n",
       "nombres                \n",
       "dos               C_1  \n",
       "tres              C_2  "
      ]
     },
     "execution_count": 45,
     "metadata": {},
     "output_type": "execute_result"
    }
   ],
   "source": [
    "base_123_casado=base[base[\"Numeros\"].isin([1,2,3])\n",
    "                    & base[\"Estado_civil\"].isin([\"casado\"])]\n",
    "base_123_casado"
   ]
  },
  {
   "cell_type": "markdown",
   "metadata": {},
   "source": [
    "## Resumen de variable categorica"
   ]
  },
  {
   "cell_type": "markdown",
   "metadata": {},
   "source": [
    "Para brindar al lector un acecamiento **descriptivo** de variables cualitativas categóricas, se utilizan las frecuencias, ya sea abosulotas o relativas, como se muestra a continuación."
   ]
  },
  {
   "cell_type": "code",
   "execution_count": 46,
   "metadata": {},
   "outputs": [
    {
     "data": {
      "text/plain": [
       "h    4\n",
       "m    2\n",
       "Name: sexo, dtype: int64"
      ]
     },
     "execution_count": 46,
     "metadata": {},
     "output_type": "execute_result"
    }
   ],
   "source": [
    "base[\"sexo\"].value_counts()"
   ]
  },
  {
   "cell_type": "code",
   "execution_count": 47,
   "metadata": {},
   "outputs": [
    {
     "data": {
      "text/plain": [
       "h    0.666667\n",
       "m    0.333333\n",
       "Name: sexo, dtype: float64"
      ]
     },
     "execution_count": 47,
     "metadata": {},
     "output_type": "execute_result"
    }
   ],
   "source": [
    "base[\"sexo\"].value_counts(normalize=True)"
   ]
  },
  {
   "cell_type": "code",
   "execution_count": 48,
   "metadata": {
    "scrolled": true
   },
   "outputs": [
    {
     "data": {
      "text/html": [
       "<style  type=\"text/css\" >\n",
       "</style><table id=\"T_30d810a2_aae5_11eb_b6d1_b8ac6f827f16\" ><thead>    <tr>        <th class=\"blank level0\" ></th>        <th class=\"col_heading level0 col0\" >sexo</th>        <th class=\"col_heading level0 col1\" >count</th>        <th class=\"col_heading level0 col2\" >percent</th>        <th class=\"col_heading level0 col3\" >cumulative_count</th>        <th class=\"col_heading level0 col4\" >cumulative_percent</th>    </tr></thead><tbody>\n",
       "                <tr>\n",
       "                        <th id=\"T_30d810a2_aae5_11eb_b6d1_b8ac6f827f16level0_row0\" class=\"row_heading level0 row0\" >0</th>\n",
       "                        <td id=\"T_30d810a2_aae5_11eb_b6d1_b8ac6f827f16row0_col0\" class=\"data row0 col0\" >h</td>\n",
       "                        <td id=\"T_30d810a2_aae5_11eb_b6d1_b8ac6f827f16row0_col1\" class=\"data row0 col1\" >4</td>\n",
       "                        <td id=\"T_30d810a2_aae5_11eb_b6d1_b8ac6f827f16row0_col2\" class=\"data row0 col2\" >66.67%</td>\n",
       "                        <td id=\"T_30d810a2_aae5_11eb_b6d1_b8ac6f827f16row0_col3\" class=\"data row0 col3\" >4</td>\n",
       "                        <td id=\"T_30d810a2_aae5_11eb_b6d1_b8ac6f827f16row0_col4\" class=\"data row0 col4\" >66.67%</td>\n",
       "            </tr>\n",
       "            <tr>\n",
       "                        <th id=\"T_30d810a2_aae5_11eb_b6d1_b8ac6f827f16level0_row1\" class=\"row_heading level0 row1\" >1</th>\n",
       "                        <td id=\"T_30d810a2_aae5_11eb_b6d1_b8ac6f827f16row1_col0\" class=\"data row1 col0\" >m</td>\n",
       "                        <td id=\"T_30d810a2_aae5_11eb_b6d1_b8ac6f827f16row1_col1\" class=\"data row1 col1\" >2</td>\n",
       "                        <td id=\"T_30d810a2_aae5_11eb_b6d1_b8ac6f827f16row1_col2\" class=\"data row1 col2\" >33.33%</td>\n",
       "                        <td id=\"T_30d810a2_aae5_11eb_b6d1_b8ac6f827f16row1_col3\" class=\"data row1 col3\" >6</td>\n",
       "                        <td id=\"T_30d810a2_aae5_11eb_b6d1_b8ac6f827f16row1_col4\" class=\"data row1 col4\" >100.00%</td>\n",
       "            </tr>\n",
       "    </tbody></table>"
      ],
      "text/plain": [
       "<pandas.io.formats.style.Styler at 0xbb9cc48>"
      ]
     },
     "execution_count": 48,
     "metadata": {},
     "output_type": "execute_result"
    }
   ],
   "source": [
    "# sidetable no viene por defecto en ANACONDA se debe instalar en el shell\n",
    "#python -m pip install sidetable\n",
    "base.stb.freq([\"sexo\"],style = True)"
   ]
  },
  {
   "cell_type": "markdown",
   "metadata": {},
   "source": [
    "* Otra opción muy utilizada es el cruze de variables en forma de tablas de contingencia."
   ]
  },
  {
   "cell_type": "code",
   "execution_count": 49,
   "metadata": {
    "scrolled": true
   },
   "outputs": [
    {
     "data": {
      "text/html": [
       "<div>\n",
       "<style scoped>\n",
       "    .dataframe tbody tr th:only-of-type {\n",
       "        vertical-align: middle;\n",
       "    }\n",
       "\n",
       "    .dataframe tbody tr th {\n",
       "        vertical-align: top;\n",
       "    }\n",
       "\n",
       "    .dataframe thead th {\n",
       "        text-align: right;\n",
       "    }\n",
       "</style>\n",
       "<table border=\"1\" class=\"dataframe\">\n",
       "  <thead>\n",
       "    <tr style=\"text-align: right;\">\n",
       "      <th>Estado_civil</th>\n",
       "      <th>casado</th>\n",
       "      <th>soltero</th>\n",
       "      <th>viduo</th>\n",
       "      <th>viudo</th>\n",
       "    </tr>\n",
       "    <tr>\n",
       "      <th>sexo</th>\n",
       "      <th></th>\n",
       "      <th></th>\n",
       "      <th></th>\n",
       "      <th></th>\n",
       "    </tr>\n",
       "  </thead>\n",
       "  <tbody>\n",
       "    <tr>\n",
       "      <th>h</th>\n",
       "      <td>2</td>\n",
       "      <td>1</td>\n",
       "      <td>1</td>\n",
       "      <td>0</td>\n",
       "    </tr>\n",
       "    <tr>\n",
       "      <th>m</th>\n",
       "      <td>0</td>\n",
       "      <td>1</td>\n",
       "      <td>0</td>\n",
       "      <td>1</td>\n",
       "    </tr>\n",
       "  </tbody>\n",
       "</table>\n",
       "</div>"
      ],
      "text/plain": [
       "Estado_civil  casado  soltero  viduo  viudo\n",
       "sexo                                       \n",
       "h                  2        1      1      0\n",
       "m                  0        1      0      1"
      ]
     },
     "execution_count": 49,
     "metadata": {},
     "output_type": "execute_result"
    }
   ],
   "source": [
    "tabla1=pd.crosstab(base[\"sexo\"],base[\"Estado_civil\"])\n",
    "tabla1"
   ]
  },
  {
   "cell_type": "markdown",
   "metadata": {},
   "source": [
    "* Tabla de contingencia de 2 variables categóricas en frecuencia relativa."
   ]
  },
  {
   "cell_type": "code",
   "execution_count": 54,
   "metadata": {
    "scrolled": false
   },
   "outputs": [
    {
     "data": {
      "text/html": [
       "<div>\n",
       "<style scoped>\n",
       "    .dataframe tbody tr th:only-of-type {\n",
       "        vertical-align: middle;\n",
       "    }\n",
       "\n",
       "    .dataframe tbody tr th {\n",
       "        vertical-align: top;\n",
       "    }\n",
       "\n",
       "    .dataframe thead th {\n",
       "        text-align: right;\n",
       "    }\n",
       "</style>\n",
       "<table border=\"1\" class=\"dataframe\">\n",
       "  <thead>\n",
       "    <tr style=\"text-align: right;\">\n",
       "      <th>Estado_civil</th>\n",
       "      <th>casado</th>\n",
       "      <th>soltero</th>\n",
       "      <th>viduo</th>\n",
       "      <th>viudo</th>\n",
       "    </tr>\n",
       "    <tr>\n",
       "      <th>sexo</th>\n",
       "      <th></th>\n",
       "      <th></th>\n",
       "      <th></th>\n",
       "      <th></th>\n",
       "    </tr>\n",
       "  </thead>\n",
       "  <tbody>\n",
       "    <tr>\n",
       "      <th>h</th>\n",
       "      <td>0.5</td>\n",
       "      <td>0.25</td>\n",
       "      <td>0.25</td>\n",
       "      <td>0.0</td>\n",
       "    </tr>\n",
       "    <tr>\n",
       "      <th>m</th>\n",
       "      <td>0.0</td>\n",
       "      <td>0.50</td>\n",
       "      <td>0.00</td>\n",
       "      <td>0.5</td>\n",
       "    </tr>\n",
       "  </tbody>\n",
       "</table>\n",
       "</div>"
      ],
      "text/plain": [
       "Estado_civil  casado  soltero  viduo  viudo\n",
       "sexo                                       \n",
       "h                0.5     0.25   0.25    0.0\n",
       "m                0.0     0.50   0.00    0.5"
      ]
     },
     "execution_count": 54,
     "metadata": {},
     "output_type": "execute_result"
    }
   ],
   "source": [
    "tabla2=pd.crosstab(base[\"sexo\"],base[\"Estado_civil\"],normalize=\"index\")\n",
    "tabla2"
   ]
  },
  {
   "cell_type": "markdown",
   "metadata": {},
   "source": [
    "## Resumen de variable cuantitativa"
   ]
  },
  {
   "cell_type": "markdown",
   "metadata": {},
   "source": [
    "En el caso de las variables cuantitativas se utilizas las medidas de pocisión, tendencia central y de disperción, por medio del siguiente comando se puede obtener un resumen de lo anteriormente descrito."
   ]
  },
  {
   "cell_type": "code",
   "execution_count": 55,
   "metadata": {},
   "outputs": [
    {
     "data": {
      "text/plain": [
       "count    6.000000\n",
       "mean     3.500000\n",
       "std      1.870829\n",
       "min      1.000000\n",
       "25%      2.250000\n",
       "50%      3.500000\n",
       "75%      4.750000\n",
       "max      6.000000\n",
       "Name: Numeros, dtype: float64"
      ]
     },
     "execution_count": 55,
     "metadata": {},
     "output_type": "execute_result"
    }
   ],
   "source": [
    "base[\"Numeros\"].describe()"
   ]
  },
  {
   "cell_type": "markdown",
   "metadata": {},
   "source": [
    "## Tratamiento a valores nulos"
   ]
  },
  {
   "cell_type": "markdown",
   "metadata": {},
   "source": [
    "Con el objetivo de ejemplificar el manejo de valores perdidos en una base de datos, se genera una nueva variable con valores perdidos."
   ]
  },
  {
   "cell_type": "markdown",
   "metadata": {},
   "source": [
    "En python el valor por defecto con el cual se denota la ausencia de un valor es \"None\", y la libreria numpy los denota np.nan."
   ]
  },
  {
   "cell_type": "code",
   "execution_count": 56,
   "metadata": {},
   "outputs": [],
   "source": [
    "base[\"hijos\"]=[2,3,4,np.nan,4,None]\n",
    "base[\"zona_res\"]=[\"rural\",\"urbana\",np.nan,np.nan,\"rural\",np.nan]"
   ]
  },
  {
   "cell_type": "markdown",
   "metadata": {},
   "source": [
    "Con el siguiente comando se muestra la cantidad de valores nulos en cada variable."
   ]
  },
  {
   "cell_type": "code",
   "execution_count": 57,
   "metadata": {},
   "outputs": [
    {
     "data": {
      "text/plain": [
       "Numeros          0\n",
       "sexo             0\n",
       "Estado_civil     0\n",
       "idioneo          0\n",
       "volcal_a         0\n",
       "Num_+1           0\n",
       "Num+2-num        0\n",
       "rango_cuartil    0\n",
       "hijos            2\n",
       "zona_res         3\n",
       "dtype: int64"
      ]
     },
     "execution_count": 57,
     "metadata": {},
     "output_type": "execute_result"
    }
   ],
   "source": [
    "base.isna().sum()"
   ]
  },
  {
   "cell_type": "markdown",
   "metadata": {},
   "source": [
    "De forma similar, se puede obtener el porcentaje de valores perdidos con respecto al total."
   ]
  },
  {
   "cell_type": "code",
   "execution_count": 58,
   "metadata": {},
   "outputs": [
    {
     "data": {
      "text/plain": [
       "Numeros          0.000000\n",
       "sexo             0.000000\n",
       "Estado_civil     0.000000\n",
       "idioneo          0.000000\n",
       "volcal_a         0.000000\n",
       "Num_+1           0.000000\n",
       "Num+2-num        0.000000\n",
       "rango_cuartil    0.000000\n",
       "hijos            0.333333\n",
       "zona_res         0.500000\n",
       "dtype: float64"
      ]
     },
     "execution_count": 58,
     "metadata": {},
     "output_type": "execute_result"
    }
   ],
   "source": [
    "base.isna().sum() / len(base)"
   ]
  },
  {
   "cell_type": "markdown",
   "metadata": {},
   "source": [
    "Sim embargo una de las alternativas mas potentes para este análisis son las siguites lineas de código."
   ]
  },
  {
   "cell_type": "code",
   "execution_count": 59,
   "metadata": {
    "scrolled": true
   },
   "outputs": [
    {
     "data": {
      "text/html": [
       "<style  type=\"text/css\" >\n",
       "</style><table id=\"T_add3f848_aae5_11eb_8ba2_b8ac6f827f16\" ><thead>    <tr>        <th class=\"blank level0\" ></th>        <th class=\"col_heading level0 col0\" >missing</th>        <th class=\"col_heading level0 col1\" >total</th>        <th class=\"col_heading level0 col2\" >percent</th>    </tr></thead><tbody>\n",
       "                <tr>\n",
       "                        <th id=\"T_add3f848_aae5_11eb_8ba2_b8ac6f827f16level0_row0\" class=\"row_heading level0 row0\" >zona_res</th>\n",
       "                        <td id=\"T_add3f848_aae5_11eb_8ba2_b8ac6f827f16row0_col0\" class=\"data row0 col0\" >3</td>\n",
       "                        <td id=\"T_add3f848_aae5_11eb_8ba2_b8ac6f827f16row0_col1\" class=\"data row0 col1\" >6</td>\n",
       "                        <td id=\"T_add3f848_aae5_11eb_8ba2_b8ac6f827f16row0_col2\" class=\"data row0 col2\" >50.00%</td>\n",
       "            </tr>\n",
       "            <tr>\n",
       "                        <th id=\"T_add3f848_aae5_11eb_8ba2_b8ac6f827f16level0_row1\" class=\"row_heading level0 row1\" >hijos</th>\n",
       "                        <td id=\"T_add3f848_aae5_11eb_8ba2_b8ac6f827f16row1_col0\" class=\"data row1 col0\" >2</td>\n",
       "                        <td id=\"T_add3f848_aae5_11eb_8ba2_b8ac6f827f16row1_col1\" class=\"data row1 col1\" >6</td>\n",
       "                        <td id=\"T_add3f848_aae5_11eb_8ba2_b8ac6f827f16row1_col2\" class=\"data row1 col2\" >33.33%</td>\n",
       "            </tr>\n",
       "            <tr>\n",
       "                        <th id=\"T_add3f848_aae5_11eb_8ba2_b8ac6f827f16level0_row2\" class=\"row_heading level0 row2\" >Numeros</th>\n",
       "                        <td id=\"T_add3f848_aae5_11eb_8ba2_b8ac6f827f16row2_col0\" class=\"data row2 col0\" >0</td>\n",
       "                        <td id=\"T_add3f848_aae5_11eb_8ba2_b8ac6f827f16row2_col1\" class=\"data row2 col1\" >6</td>\n",
       "                        <td id=\"T_add3f848_aae5_11eb_8ba2_b8ac6f827f16row2_col2\" class=\"data row2 col2\" >0.00%</td>\n",
       "            </tr>\n",
       "            <tr>\n",
       "                        <th id=\"T_add3f848_aae5_11eb_8ba2_b8ac6f827f16level0_row3\" class=\"row_heading level0 row3\" >sexo</th>\n",
       "                        <td id=\"T_add3f848_aae5_11eb_8ba2_b8ac6f827f16row3_col0\" class=\"data row3 col0\" >0</td>\n",
       "                        <td id=\"T_add3f848_aae5_11eb_8ba2_b8ac6f827f16row3_col1\" class=\"data row3 col1\" >6</td>\n",
       "                        <td id=\"T_add3f848_aae5_11eb_8ba2_b8ac6f827f16row3_col2\" class=\"data row3 col2\" >0.00%</td>\n",
       "            </tr>\n",
       "            <tr>\n",
       "                        <th id=\"T_add3f848_aae5_11eb_8ba2_b8ac6f827f16level0_row4\" class=\"row_heading level0 row4\" >Estado_civil</th>\n",
       "                        <td id=\"T_add3f848_aae5_11eb_8ba2_b8ac6f827f16row4_col0\" class=\"data row4 col0\" >0</td>\n",
       "                        <td id=\"T_add3f848_aae5_11eb_8ba2_b8ac6f827f16row4_col1\" class=\"data row4 col1\" >6</td>\n",
       "                        <td id=\"T_add3f848_aae5_11eb_8ba2_b8ac6f827f16row4_col2\" class=\"data row4 col2\" >0.00%</td>\n",
       "            </tr>\n",
       "            <tr>\n",
       "                        <th id=\"T_add3f848_aae5_11eb_8ba2_b8ac6f827f16level0_row5\" class=\"row_heading level0 row5\" >idioneo</th>\n",
       "                        <td id=\"T_add3f848_aae5_11eb_8ba2_b8ac6f827f16row5_col0\" class=\"data row5 col0\" >0</td>\n",
       "                        <td id=\"T_add3f848_aae5_11eb_8ba2_b8ac6f827f16row5_col1\" class=\"data row5 col1\" >6</td>\n",
       "                        <td id=\"T_add3f848_aae5_11eb_8ba2_b8ac6f827f16row5_col2\" class=\"data row5 col2\" >0.00%</td>\n",
       "            </tr>\n",
       "            <tr>\n",
       "                        <th id=\"T_add3f848_aae5_11eb_8ba2_b8ac6f827f16level0_row6\" class=\"row_heading level0 row6\" >volcal_a</th>\n",
       "                        <td id=\"T_add3f848_aae5_11eb_8ba2_b8ac6f827f16row6_col0\" class=\"data row6 col0\" >0</td>\n",
       "                        <td id=\"T_add3f848_aae5_11eb_8ba2_b8ac6f827f16row6_col1\" class=\"data row6 col1\" >6</td>\n",
       "                        <td id=\"T_add3f848_aae5_11eb_8ba2_b8ac6f827f16row6_col2\" class=\"data row6 col2\" >0.00%</td>\n",
       "            </tr>\n",
       "            <tr>\n",
       "                        <th id=\"T_add3f848_aae5_11eb_8ba2_b8ac6f827f16level0_row7\" class=\"row_heading level0 row7\" >Num_+1</th>\n",
       "                        <td id=\"T_add3f848_aae5_11eb_8ba2_b8ac6f827f16row7_col0\" class=\"data row7 col0\" >0</td>\n",
       "                        <td id=\"T_add3f848_aae5_11eb_8ba2_b8ac6f827f16row7_col1\" class=\"data row7 col1\" >6</td>\n",
       "                        <td id=\"T_add3f848_aae5_11eb_8ba2_b8ac6f827f16row7_col2\" class=\"data row7 col2\" >0.00%</td>\n",
       "            </tr>\n",
       "            <tr>\n",
       "                        <th id=\"T_add3f848_aae5_11eb_8ba2_b8ac6f827f16level0_row8\" class=\"row_heading level0 row8\" >Num+2-num</th>\n",
       "                        <td id=\"T_add3f848_aae5_11eb_8ba2_b8ac6f827f16row8_col0\" class=\"data row8 col0\" >0</td>\n",
       "                        <td id=\"T_add3f848_aae5_11eb_8ba2_b8ac6f827f16row8_col1\" class=\"data row8 col1\" >6</td>\n",
       "                        <td id=\"T_add3f848_aae5_11eb_8ba2_b8ac6f827f16row8_col2\" class=\"data row8 col2\" >0.00%</td>\n",
       "            </tr>\n",
       "            <tr>\n",
       "                        <th id=\"T_add3f848_aae5_11eb_8ba2_b8ac6f827f16level0_row9\" class=\"row_heading level0 row9\" >rango_cuartil</th>\n",
       "                        <td id=\"T_add3f848_aae5_11eb_8ba2_b8ac6f827f16row9_col0\" class=\"data row9 col0\" >0</td>\n",
       "                        <td id=\"T_add3f848_aae5_11eb_8ba2_b8ac6f827f16row9_col1\" class=\"data row9 col1\" >6</td>\n",
       "                        <td id=\"T_add3f848_aae5_11eb_8ba2_b8ac6f827f16row9_col2\" class=\"data row9 col2\" >0.00%</td>\n",
       "            </tr>\n",
       "    </tbody></table>"
      ],
      "text/plain": [
       "<pandas.io.formats.style.Styler at 0xbc06e08>"
      ]
     },
     "execution_count": 59,
     "metadata": {},
     "output_type": "execute_result"
    }
   ],
   "source": [
    "\n",
    "# sidetable no viene por defecto en ANACONDA se debe instalar en el shell\n",
    "#python -m pip install sidetable\n",
    "base.stb.missing(style = True)"
   ]
  },
  {
   "cell_type": "markdown",
   "metadata": {},
   "source": [
    "En el caso que se decida eliminar los valores perdidos,el siguiente comando elimina los valores ya sea de las filas o las columnas (axis=0) o (axis=1)."
   ]
  },
  {
   "cell_type": "code",
   "execution_count": 62,
   "metadata": {
    "scrolled": true
   },
   "outputs": [
    {
     "data": {
      "text/html": [
       "<div>\n",
       "<style scoped>\n",
       "    .dataframe tbody tr th:only-of-type {\n",
       "        vertical-align: middle;\n",
       "    }\n",
       "\n",
       "    .dataframe tbody tr th {\n",
       "        vertical-align: top;\n",
       "    }\n",
       "\n",
       "    .dataframe thead th {\n",
       "        text-align: right;\n",
       "    }\n",
       "</style>\n",
       "<table border=\"1\" class=\"dataframe\">\n",
       "  <thead>\n",
       "    <tr style=\"text-align: right;\">\n",
       "      <th></th>\n",
       "      <th>Numeros</th>\n",
       "      <th>sexo</th>\n",
       "      <th>Estado_civil</th>\n",
       "      <th>idioneo</th>\n",
       "      <th>volcal_a</th>\n",
       "      <th>Num_+1</th>\n",
       "      <th>Num+2-num</th>\n",
       "      <th>rango_cuartil</th>\n",
       "      <th>hijos</th>\n",
       "      <th>zona_res</th>\n",
       "    </tr>\n",
       "    <tr>\n",
       "      <th>nombres</th>\n",
       "      <th></th>\n",
       "      <th></th>\n",
       "      <th></th>\n",
       "      <th></th>\n",
       "      <th></th>\n",
       "      <th></th>\n",
       "      <th></th>\n",
       "      <th></th>\n",
       "      <th></th>\n",
       "      <th></th>\n",
       "    </tr>\n",
       "  </thead>\n",
       "  <tbody>\n",
       "    <tr>\n",
       "      <th>uno</th>\n",
       "      <td>1</td>\n",
       "      <td>h</td>\n",
       "      <td>soltero</td>\n",
       "      <td>no-idoneo</td>\n",
       "      <td>no tiene</td>\n",
       "      <td>2</td>\n",
       "      <td>2.875</td>\n",
       "      <td>C_1</td>\n",
       "      <td>2.0</td>\n",
       "      <td>rural</td>\n",
       "    </tr>\n",
       "    <tr>\n",
       "      <th>dos</th>\n",
       "      <td>2</td>\n",
       "      <td>h</td>\n",
       "      <td>casado</td>\n",
       "      <td>no-idoneo</td>\n",
       "      <td>si tiene</td>\n",
       "      <td>3</td>\n",
       "      <td>3.750</td>\n",
       "      <td>C_1</td>\n",
       "      <td>3.0</td>\n",
       "      <td>urbana</td>\n",
       "    </tr>\n",
       "    <tr>\n",
       "      <th>cinco</th>\n",
       "      <td>5</td>\n",
       "      <td>h</td>\n",
       "      <td>viduo</td>\n",
       "      <td>no-idoneo</td>\n",
       "      <td>no tiene</td>\n",
       "      <td>6</td>\n",
       "      <td>6.375</td>\n",
       "      <td>C_4</td>\n",
       "      <td>4.0</td>\n",
       "      <td>rural</td>\n",
       "    </tr>\n",
       "  </tbody>\n",
       "</table>\n",
       "</div>"
      ],
      "text/plain": [
       "         Numeros sexo Estado_civil    idioneo  volcal_a  Num_+1  Num+2-num  \\\n",
       "nombres                                                                      \n",
       "uno            1    h      soltero  no-idoneo  no tiene       2      2.875   \n",
       "dos            2    h       casado  no-idoneo  si tiene       3      3.750   \n",
       "cinco          5    h        viduo  no-idoneo  no tiene       6      6.375   \n",
       "\n",
       "        rango_cuartil  hijos zona_res  \n",
       "nombres                                \n",
       "uno               C_1    2.0    rural  \n",
       "dos               C_1    3.0   urbana  \n",
       "cinco             C_4    4.0    rural  "
      ]
     },
     "execution_count": 62,
     "metadata": {},
     "output_type": "execute_result"
    }
   ],
   "source": [
    "base_l=base.dropna(axis = 0)\n",
    "base_l"
   ]
  },
  {
   "cell_type": "markdown",
   "metadata": {},
   "source": [
    "Si se desea reemplazar los datos perdidos por un caracter en especial se utilza en siguiten código."
   ]
  },
  {
   "cell_type": "code",
   "execution_count": 68,
   "metadata": {},
   "outputs": [
    {
     "data": {
      "text/html": [
       "<div>\n",
       "<style scoped>\n",
       "    .dataframe tbody tr th:only-of-type {\n",
       "        vertical-align: middle;\n",
       "    }\n",
       "\n",
       "    .dataframe tbody tr th {\n",
       "        vertical-align: top;\n",
       "    }\n",
       "\n",
       "    .dataframe thead th {\n",
       "        text-align: right;\n",
       "    }\n",
       "</style>\n",
       "<table border=\"1\" class=\"dataframe\">\n",
       "  <thead>\n",
       "    <tr style=\"text-align: right;\">\n",
       "      <th></th>\n",
       "      <th>Numeros</th>\n",
       "      <th>sexo</th>\n",
       "      <th>Estado_civil</th>\n",
       "      <th>idioneo</th>\n",
       "      <th>volcal_a</th>\n",
       "      <th>Num_+1</th>\n",
       "      <th>Num+2-num</th>\n",
       "      <th>rango_cuartil</th>\n",
       "      <th>hijos</th>\n",
       "      <th>zona_res</th>\n",
       "    </tr>\n",
       "    <tr>\n",
       "      <th>nombres</th>\n",
       "      <th></th>\n",
       "      <th></th>\n",
       "      <th></th>\n",
       "      <th></th>\n",
       "      <th></th>\n",
       "      <th></th>\n",
       "      <th></th>\n",
       "      <th></th>\n",
       "      <th></th>\n",
       "      <th></th>\n",
       "    </tr>\n",
       "  </thead>\n",
       "  <tbody>\n",
       "    <tr>\n",
       "      <th>uno</th>\n",
       "      <td>1</td>\n",
       "      <td>h</td>\n",
       "      <td>soltero</td>\n",
       "      <td>no-idoneo</td>\n",
       "      <td>no tiene</td>\n",
       "      <td>2</td>\n",
       "      <td>2.875</td>\n",
       "      <td>C_1</td>\n",
       "      <td>2.0</td>\n",
       "      <td>rural</td>\n",
       "    </tr>\n",
       "    <tr>\n",
       "      <th>dos</th>\n",
       "      <td>2</td>\n",
       "      <td>h</td>\n",
       "      <td>casado</td>\n",
       "      <td>no-idoneo</td>\n",
       "      <td>si tiene</td>\n",
       "      <td>3</td>\n",
       "      <td>3.750</td>\n",
       "      <td>C_1</td>\n",
       "      <td>3.0</td>\n",
       "      <td>urbana</td>\n",
       "    </tr>\n",
       "    <tr>\n",
       "      <th>tres</th>\n",
       "      <td>3</td>\n",
       "      <td>h</td>\n",
       "      <td>casado</td>\n",
       "      <td>no-idoneo</td>\n",
       "      <td>si tiene</td>\n",
       "      <td>4</td>\n",
       "      <td>4.625</td>\n",
       "      <td>C_2</td>\n",
       "      <td>4.0</td>\n",
       "      <td>periféricos</td>\n",
       "    </tr>\n",
       "    <tr>\n",
       "      <th>cuatro</th>\n",
       "      <td>4</td>\n",
       "      <td>m</td>\n",
       "      <td>soltero</td>\n",
       "      <td>idoneo</td>\n",
       "      <td>no tiene</td>\n",
       "      <td>5</td>\n",
       "      <td>5.500</td>\n",
       "      <td>C_3</td>\n",
       "      <td>NaN</td>\n",
       "      <td>periféricos</td>\n",
       "    </tr>\n",
       "    <tr>\n",
       "      <th>cinco</th>\n",
       "      <td>5</td>\n",
       "      <td>h</td>\n",
       "      <td>viduo</td>\n",
       "      <td>no-idoneo</td>\n",
       "      <td>no tiene</td>\n",
       "      <td>6</td>\n",
       "      <td>6.375</td>\n",
       "      <td>C_4</td>\n",
       "      <td>4.0</td>\n",
       "      <td>rural</td>\n",
       "    </tr>\n",
       "    <tr>\n",
       "      <th>seis</th>\n",
       "      <td>6</td>\n",
       "      <td>m</td>\n",
       "      <td>viudo</td>\n",
       "      <td>semi-idoneo</td>\n",
       "      <td>no tiene</td>\n",
       "      <td>7</td>\n",
       "      <td>7.250</td>\n",
       "      <td>C_4</td>\n",
       "      <td>NaN</td>\n",
       "      <td>periféricos</td>\n",
       "    </tr>\n",
       "  </tbody>\n",
       "</table>\n",
       "</div>"
      ],
      "text/plain": [
       "         Numeros sexo Estado_civil      idioneo  volcal_a  Num_+1  Num+2-num  \\\n",
       "nombres                                                                        \n",
       "uno            1    h      soltero    no-idoneo  no tiene       2      2.875   \n",
       "dos            2    h       casado    no-idoneo  si tiene       3      3.750   \n",
       "tres           3    h       casado    no-idoneo  si tiene       4      4.625   \n",
       "cuatro         4    m      soltero       idoneo  no tiene       5      5.500   \n",
       "cinco          5    h        viduo    no-idoneo  no tiene       6      6.375   \n",
       "seis           6    m        viudo  semi-idoneo  no tiene       7      7.250   \n",
       "\n",
       "        rango_cuartil  hijos     zona_res  \n",
       "nombres                                    \n",
       "uno               C_1    2.0        rural  \n",
       "dos               C_1    3.0       urbana  \n",
       "tres              C_2    4.0  periféricos  \n",
       "cuatro            C_3    NaN  periféricos  \n",
       "cinco             C_4    4.0        rural  \n",
       "seis              C_4    NaN  periféricos  "
      ]
     },
     "execution_count": 68,
     "metadata": {},
     "output_type": "execute_result"
    }
   ],
   "source": [
    "base[\"zona_res\"]=base.zona_res.fillna(\"periféricos\")\n",
    "base"
   ]
  }
 ],
 "metadata": {
  "kernelspec": {
   "display_name": "Python 3",
   "language": "python",
   "name": "python3"
  },
  "language_info": {
   "codemirror_mode": {
    "name": "ipython",
    "version": 3
   },
   "file_extension": ".py",
   "mimetype": "text/x-python",
   "name": "python",
   "nbconvert_exporter": "python",
   "pygments_lexer": "ipython3",
   "version": "3.7.6"
  }
 },
 "nbformat": 4,
 "nbformat_minor": 4
}
